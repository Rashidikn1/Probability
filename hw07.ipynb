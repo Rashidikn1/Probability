{
 "cells": [
  {
   "cell_type": "markdown",
   "metadata": {},
   "source": [
    "# CS 237 Fall 2019   Homework Seven \n",
    "\n",
    "\n",
    "### Due date: PDF file due Friday October 25th @ 11:59PM in GradeScope with 12-hour grace period\n",
    "\n",
    "### No late submissions!\n",
    "\n",
    "### General Instructions\n",
    "\n",
    "Please complete this notebook by filling in solutions where indicated. Be sure to \"Run All\" from the Cell menu before submitting. \n",
    "\n",
    "There are two sections to the homework: problems 1 - 10 are analytical problems about last\n",
    "week's material, and the remaining problems are coding problems which will be discussed in lab next week. "
   ]
  },
  {
   "cell_type": "code",
   "execution_count": 119,
   "metadata": {},
   "outputs": [
    {
     "name": "stdout",
     "output_type": "stream",
     "text": [
      "\n"
     ]
    }
   ],
   "source": [
    "# Useful imports and definitions for CS 237\n",
    "\n",
    "import numpy as np                # arrays and functions which operate on array\n",
    "from numpy import linspace, arange, mean\n",
    "import matplotlib.pyplot as plt   # normal plotting\n",
    "#import seaborn as sns             # Fancy plotting \n",
    "#import pandas as pd               # Data input and manipulation\n",
    "\n",
    "from random import random, randint, uniform, choice, sample, shuffle, seed\n",
    "from collections import Counter\n",
    "from math import log,floor,ceil, exp, factorial, e\n",
    "\n",
    "%matplotlib inline\n",
    "\n",
    "# Calculating permutations and combinations efficiently\n",
    "\n",
    "def P(N,K):\n",
    "    res = 1\n",
    "    for i in range(K):\n",
    "        res *= N\n",
    "        N = N - 1\n",
    "    return res\n",
    "           \n",
    "def C(N,K):\n",
    "    if(K < N/2):\n",
    "        K = N-K\n",
    "    X = [1]*(K+1)\n",
    "    for row in range(1,N-K+1):\n",
    "        X[row] *= 2\n",
    "        for col in range(row+1,K+1):\n",
    "            X[col] = X[col]+X[col-1]\n",
    "    return X[K]\n",
    "\n",
    "def round4(x):\n",
    "    return round(x+0.00000000001,4)\n",
    "\n",
    "def round4_list(L):\n",
    "    return [ round4(x) for x in L]\n",
    "\n",
    "# Useful code from HW 01\n",
    "\n",
    "\n",
    "\n",
    "# This function takes a list of outcomes and a list of probabilities and\n",
    "# draws a chart of the probability distribution.\n",
    "# It allows labels for x axis with numbers or strings; for the latter, you\n",
    "# still need to give the numeric labels, but can overwrite them with your string labels. \n",
    "\n",
    "def draw_distribution(Rx, fx, title='Probability Distribution', my_xticks = [], f_size = (8,6)):\n",
    "    plt.figure(figsize=f_size)\n",
    "    plt.bar(Rx,fx,width=1.0,edgecolor='black')\n",
    "    plt.ylabel(\"Probability\")\n",
    "    plt.xlabel(\"Outcomes\")\n",
    "    if my_xticks != []:\n",
    "        plt.xticks(Rx, my_xticks)\n",
    "    elif (Rx[-1] - Rx[0] < 30):\n",
    "        ticks = range(Rx[0],Rx[-1]+1)\n",
    "        plt.xticks(ticks, ticks)  \n",
    "    plt.title(title)\n",
    "    plt.show()\n",
    "    \n",
    "# Example of use\n",
    "    \n",
    "#  draw_distribution([1,2,3,4], [0.25,0.35,0.15,0.25])\n",
    "\n",
    "#  p = 0.14159234368\n",
    "\n",
    "#  draw_distribution( [0,1], [p,1.0-p],\"Distribution for Unfair Coin\", ['Heads','Tails'],(5,4))\n",
    "\n",
    "# This draws a useful bar chart for the distribution of the\n",
    "# list of integer in outcomes\n",
    "\n",
    "def show_distribution(outcomes, title='Probability Distribution', my_xticks = [], f_size = (8,6)):\n",
    "    plt.figure(figsize=f_size)\n",
    "    num_trials = len(outcomes)\n",
    "    X = range( int(min(outcomes)), int(max(outcomes))+1 )\n",
    "    freqs = Counter(outcomes)\n",
    "    Y = [freqs[i]/num_trials for i in X]\n",
    "    plt.bar(X,Y,width=1.0,edgecolor='black')\n",
    "    if my_xticks != []:\n",
    "        plt.xticks(X, my_xticks)\n",
    "    elif (X[-1] - X[0] < 30):\n",
    "        ticks = range(X[0],X[-1]+1)\n",
    "        plt.xticks(ticks, ticks) \n",
    "    plt.xlabel(\"Outcomes\")\n",
    "    plt.ylabel(\"Probability\")\n",
    "    plt.title(title)\n",
    "    plt.show()\n",
    "    \n",
    "# Example of use\n",
    "\n",
    "#show_distribution([1,4,3,5,4,6,2,4,3,5,4])\n",
    "    \n",
    "       \n",
    "# Scipy statistical functions\n",
    "\n",
    "from scipy.stats import norm, binom                 \n",
    "\n",
    "# https://docs.scipy.org/doc/scipy/reference/stats.html\n",
    "\n",
    "#### Normal Distribution    #####\n",
    "\n",
    "# Note that in this library loc = mean and scale = standard deviation\n",
    "\n",
    "# Examples assume random variable X (e.g., housing prices) normally distributed with  mu = 60, sigma = 10\n",
    "\n",
    "# probability density function\n",
    "\n",
    "norm.pdf(x=50,loc=60, scale= 10)     \n",
    "\n",
    "#a. Find P(X<50)\n",
    "norm.cdf(x=50,loc=60,scale=10) # 0.4012936743170763\n",
    "\n",
    "#b. Find P(X>50)\n",
    "norm.sf(x=50,loc=60,scale=40) # 0.5987063256829237\n",
    "\n",
    "#c. Find P(60<X<80)\n",
    "norm.cdf(x=80,loc=60,scale=40) - norm.cdf(x=60,loc=60,scale=40)\n",
    "\n",
    "#d. What is the minimum cost of the 5% most expensive houses? Alternately, what is x where P(X>x) = 0.05?\n",
    "norm.isf(q=0.05,loc=60,scale=40)\n",
    "\n",
    "#e. What is the maximum cost of the 5% cheapest houses? Alternately, what is x where P(X<x) = 0.05?\n",
    "norm.ppf(q=0.05,loc=60,scale=40)\n",
    "\n",
    "#f give the endpoints of the range for the central alpha percent of the distribution\n",
    "norm.interval(alpha=0.3, loc=60, scale=140)\n",
    "\n",
    "#g. generate a random variate\n",
    "norm.rvs(loc=60, scale=40)\n",
    "\n",
    "#h. generate random variates, returns list of length = size\n",
    "norm.rvs(loc=60, scale=40, size=10)\n",
    "\n",
    "\n",
    "##### Binomial Distribution  X ~ B(n,p)  ####\n",
    "\n",
    "#  n = number of independent Bernoulli trials\n",
    "#  p = probability of success for Bernoulli trial\n",
    "#  k = outcome in range [0 .. n]\n",
    "\n",
    "\n",
    "# Generate a random variate\n",
    "binom.rvs(n=10, p=0.5)\n",
    "\n",
    "# Generate a list of random variates\n",
    "binom.rvs(n=10, p=0.5,size=100)\n",
    "\n",
    "# Probability mass/density function.\n",
    "binom.pmf(k=4, n=10, p=0.5)\n",
    "\n",
    "# Cumulative distribution function\n",
    "binom.cdf(k=4, n=10, p=0.5)\n",
    "\n",
    "\n",
    "print()"
   ]
  },
  {
   "cell_type": "markdown",
   "metadata": {},
   "source": [
    "## Problem One (Poisson)\n",
    "\n",
    "This problem is a collection of several different applications of the basic formulae for the Poisson Distribution. You **must** use the Poisson and show all work. \n",
    "\n",
    "<p>(a) Assume that the probability that a poker hand is a full house is 0.0014. What\n",
    "is the probability that in 500 random poker hands there are at least two full houses?</p>\n",
    "<p>(b) On average, there are three misprints in every 10 pages of a particular book. If\n",
    "every chapter of the book contains 35 pages, what is the probability that Chapters\n",
    "1 and 5 have exactly 10 misprints each?</p>\n",
    "<p>(c) Suppose that on a summer evening, shooting stars are observed at a Poisson rate\n",
    "of one every 12 minutes. What is the probability that three shooting stars are\n",
    "observed in 30 minutes?</p>\n",
    "<p>(d) Suppose that in Japan earthquakes occur at a Poisson rate of three per week. What\n",
    "is the probability that the next earthquake occurs after two weeks?</p>\n",
    "<p>(e) Suppose that, for a telephone subscriber, the number of wrong numbers is Poisson,\n",
    "at a rate of $\\lambda$ = 1 per week. A certain subscriber has not received any wrong\n",
    "numbers from Sunday through Friday. What is the probability that he receives no\n",
    "wrong numbers on Saturday either?</p>\n",
    "\n",
    "<p>Hint: Remember that the Poisson Distribution does not have the memory-less property, but\n",
    "each arrival is *independent* of every other arrival, and in particular, two intervals of time\n",
    "or space which do not overlap have an independent number of arrivals; so, like coins, arrivals don't have\n",
    "memory..."
   ]
  },
  {
   "cell_type": "code",
   "execution_count": 120,
   "metadata": {},
   "outputs": [],
   "source": [
    "def f_binomial(N,p,k):\n",
    "    return C(N,k) * (1-p)**(N-k) * (p**k)"
   ]
  },
  {
   "cell_type": "code",
   "execution_count": 121,
   "metadata": {},
   "outputs": [],
   "source": [
    "def f_geometric(k,p):\n",
    "    return (1-p)**(k-1)*p"
   ]
  },
  {
   "cell_type": "code",
   "execution_count": 122,
   "metadata": {},
   "outputs": [],
   "source": [
    "def Poi(x,u):\n",
    "    a = ((e**-u) * (u**x))/factorial(x)\n",
    "    return a"
   ]
  },
  {
   "cell_type": "code",
   "execution_count": 123,
   "metadata": {},
   "outputs": [],
   "source": [
    "def Exp(x,u):\n",
    "    a = 1 - e**(-u*x)\n",
    "    return a"
   ]
  },
  {
   "cell_type": "markdown",
   "metadata": {},
   "source": [
    "**Solution**\n",
    "\n",
    "a) P(x,U) \n",
    "\n",
    "U(intensitiy) = 500 * 0.0014 = 0.7\n",
    "\n",
    "1 - (P(0,0.7) + P(1,0.7)) = \n",
    "\n",
    "1 - (((e^-0.7) * (0.7^0))/0! + ((e^-0.7) * (0.7^1))/1!) = 0.155805\n",
    "\n",
    "b) U = 3/10 * 35 = 10.5(mis. per chapter). Answer = 0.0153\n",
    "\n",
    "c) 1/12 * 60 = 5(intensity in an hour) = 2.5(30min)\n",
    "\n"
   ]
  },
  {
   "cell_type": "code",
   "execution_count": 124,
   "metadata": {},
   "outputs": [
    {
     "data": {
      "text/plain": [
       "0.1558"
      ]
     },
     "execution_count": 124,
     "metadata": {},
     "output_type": "execute_result"
    }
   ],
   "source": [
    "a = 1 - (Poi(0,0.7) + Poi(1,0.7))\n",
    "round4(a)"
   ]
  },
  {
   "cell_type": "code",
   "execution_count": 125,
   "metadata": {},
   "outputs": [
    {
     "data": {
      "text/plain": [
       "0.0153"
      ]
     },
     "execution_count": 125,
     "metadata": {},
     "output_type": "execute_result"
    }
   ],
   "source": [
    "b = Poi(10, 10.5)\n",
    "B = b**2\n",
    "round4(B)"
   ]
  },
  {
   "cell_type": "code",
   "execution_count": 126,
   "metadata": {},
   "outputs": [
    {
     "data": {
      "text/plain": [
       "0.2138"
      ]
     },
     "execution_count": 126,
     "metadata": {},
     "output_type": "execute_result"
    }
   ],
   "source": [
    "c = Poi(3,2.5)\n",
    "round4(c)"
   ]
  },
  {
   "cell_type": "code",
   "execution_count": 127,
   "metadata": {
    "scrolled": true
   },
   "outputs": [
    {
     "data": {
      "text/plain": [
       "0.0025"
      ]
     },
     "execution_count": 127,
     "metadata": {},
     "output_type": "execute_result"
    }
   ],
   "source": [
    "round4(Poi(0,6))"
   ]
  },
  {
   "cell_type": "code",
   "execution_count": 128,
   "metadata": {},
   "outputs": [
    {
     "data": {
      "text/plain": [
       "0.8669"
      ]
     },
     "execution_count": 128,
     "metadata": {},
     "output_type": "execute_result"
    }
   ],
   "source": [
    "round4(1 - Exp(1,1/7))"
   ]
  },
  {
   "cell_type": "markdown",
   "metadata": {},
   "source": [
    "## Problem Two (Poisson compared with Exponential)\n",
    "\n",
    "Suppose the emergency room at Mass General opens at 6am and has a mean arrival rate throughout the day of $\\lambda$ = 6.9 patients per hour. </p>\n",
    "\n",
    "You must use the Poisson for (a) - (c) and Exponential for (d) and (e).  Give the name of the distribution and show the parameters (for example, (a) is P(X=12) for X ~ Poi(6.9)), and show all work. \n",
    "<p>(a) What is the probability that exactly 12 patients arrive between 6am and 7am? (Use Poisson)</p>\n",
    "<p>(b) What is the probability that no patient arrives before 7am? (Use Poisson)</p>\n",
    "\n",
    "<p>(c) What is the probability that<span> a </span> patient arrives between 6:15 and 6:45? (Use Poisson)</p>\n",
    "<p>(d) What is the probability that<span> the first</span> patient arrives between 6am and 7am? (Use Exponential)</p>\n",
    "<p>(e) What is the probability that<span> no</span> patient arrives between 6:15 and 6:45? (Use Exponential)</p>\n",
    "\n",
    "Hint: Some of these are complements of each other... \n"
   ]
  },
  {
   "cell_type": "markdown",
   "metadata": {},
   "source": [
    "<p><strong>Solution:</strong> "
   ]
  },
  {
   "cell_type": "code",
   "execution_count": 129,
   "metadata": {},
   "outputs": [
    {
     "data": {
      "text/plain": [
       "0.0245"
      ]
     },
     "execution_count": 129,
     "metadata": {},
     "output_type": "execute_result"
    }
   ],
   "source": [
    "# a) P(X=12) X~Poi(6.9)\n",
    "\n",
    "round4(Poi(12,6.9))"
   ]
  },
  {
   "cell_type": "code",
   "execution_count": 130,
   "metadata": {},
   "outputs": [
    {
     "data": {
      "text/plain": [
       "0.001"
      ]
     },
     "execution_count": 130,
     "metadata": {},
     "output_type": "execute_result"
    }
   ],
   "source": [
    "#P(X=0) X~Poi(6.9)\n",
    "round4(Poi(0,6.9))"
   ]
  },
  {
   "cell_type": "code",
   "execution_count": 131,
   "metadata": {
    "scrolled": true
   },
   "outputs": [
    {
     "data": {
      "text/plain": [
       "0.9683"
      ]
     },
     "execution_count": 131,
     "metadata": {},
     "output_type": "execute_result"
    }
   ],
   "source": [
    "#P(X=0) X~Poi(6.9/2)\n",
    "round4(1 - Poi(0,3.45))"
   ]
  },
  {
   "cell_type": "code",
   "execution_count": 132,
   "metadata": {},
   "outputs": [
    {
     "data": {
      "text/plain": [
       "0.9989922145709514"
      ]
     },
     "execution_count": 132,
     "metadata": {},
     "output_type": "execute_result"
    }
   ],
   "source": [
    "#P(X<=1) X~Exp(6.9)\n",
    "Exp(1,6.9)"
   ]
  },
  {
   "cell_type": "code",
   "execution_count": 133,
   "metadata": {},
   "outputs": [
    {
     "data": {
      "text/plain": [
       "0.0317"
      ]
     },
     "execution_count": 133,
     "metadata": {},
     "output_type": "execute_result"
    }
   ],
   "source": [
    "# P(X>1)  X~Exp(6.9/2)\n",
    "round4(1-Exp(1,3.45))"
   ]
  },
  {
   "cell_type": "markdown",
   "metadata": {},
   "source": [
    "## Problem Three (Exponential)\n",
    "\n",
    "In the following assume that we are dealing with Poisson processes and can use the Exponential distribution.\n",
    "\n",
    "(a) Suppose that every three months , on average, an earthquake occurs in\n",
    "California. What is the probability that the next earthquake occurs after three but before\n",
    "seven months?\n",
    "\n",
    "(b) Suppose we model time to failure of TV tubes as an Exponential random variable and that tubes fail on average after 10 years. \n",
    "If Jim bought his TV set 10 years ago, what is the probability that its tube\n",
    "will last another 10 years?\n",
    "\n",
    "(c) Guests arrives at a hotel at an average rate of 5 per hour. Suppose that for the last 10 minutes no guest has arrived. What is the\n",
    "probability that the next one will arrive in less than 2 minutes? \n",
    "\n",
    "(d) Considering the same situation as in (c), what is the probability that from the\n",
    "arrival of the tenth to the arrival of the eleventh guest takes no more than 2 minutes?\n",
    "\n",
    "Hint: Make sure in you understand the difference between the rate parameter $\\lambda$ (= mean number of arrivals per unit time) and $\\beta \\,=\\, 1/\\lambda$ (= mean interarrival time). "
   ]
  },
  {
   "cell_type": "markdown",
   "metadata": {},
   "source": [
    "<strong> Solution: </strong>\n"
   ]
  },
  {
   "cell_type": "code",
   "execution_count": 134,
   "metadata": {},
   "outputs": [
    {
     "data": {
      "text/plain": [
       "0.2709"
      ]
     },
     "execution_count": 134,
     "metadata": {},
     "output_type": "execute_result"
    }
   ],
   "source": [
    "#a) P(X<=7) - P(x<=3) X~Exp(1/3)\n",
    "round4(Exp(7,1/3) - Exp(3,1/3))"
   ]
  },
  {
   "cell_type": "code",
   "execution_count": 135,
   "metadata": {},
   "outputs": [
    {
     "data": {
      "text/plain": [
       "0.3679"
      ]
     },
     "execution_count": 135,
     "metadata": {},
     "output_type": "execute_result"
    }
   ],
   "source": [
    "#b) P(X>10) X~Exp(1/10)\n",
    "\n",
    "round4(1 - Exp(10,1/10))"
   ]
  },
  {
   "cell_type": "code",
   "execution_count": 136,
   "metadata": {},
   "outputs": [
    {
     "data": {
      "text/plain": [
       "0.1535"
      ]
     },
     "execution_count": 136,
     "metadata": {},
     "output_type": "execute_result"
    }
   ],
   "source": [
    "#c) P(X<2) X~Exp(5/60)\n",
    "\n",
    "round4(Exp(2,5/60))"
   ]
  },
  {
   "cell_type": "code",
   "execution_count": 137,
   "metadata": {},
   "outputs": [
    {
     "data": {
      "text/plain": [
       "0.1535"
      ]
     },
     "execution_count": 137,
     "metadata": {},
     "output_type": "execute_result"
    }
   ],
   "source": [
    "#d\n",
    "round4((Exp(2,5/60)))"
   ]
  },
  {
   "cell_type": "markdown",
   "metadata": {},
   "source": [
    "## Problem Four\n",
    "\n",
    "(Continuous Distributions)  Let X be a continuous random variable with a frequency distribution (PMF) of the form \n",
    "\n",
    "$$ f(x) =\n",
    "\\begin{cases}\n",
    "    {\\large\\frac{x}{4}} & \\text{if $1\\le x\\le 3$} \\\\[4pt]\n",
    "    \\,0 & \\text{otherwise} \\\\\n",
    "\\end{cases}$$\n",
    "  \n",
    "which can be graphed as follows:"
   ]
  },
  {
   "cell_type": "code",
   "execution_count": 138,
   "metadata": {},
   "outputs": [
    {
     "data": {
      "image/png": "[encoded data removed]",
      "text/plain": [
       "<Figure size 576x360 with 1 Axes>"
      ]
     },
     "metadata": {
      "needs_background": "light"
     },
     "output_type": "display_data"
    }
   ],
   "source": [
    "plt.figure(figsize=(8, 5))\n",
    "plt.title(\"PDF\")\n",
    "plt.plot(np.arange(0,4,0.001),[x/4 if 1 <= x <= 3 else 0 for x in np.arange(0,4,0.001)]) #plot integral formula instead of x/4\n",
    "plt.show()"
   ]
  },
  {
   "cell_type": "markdown",
   "metadata": {},
   "source": [
    "  (a) Determine the formula  for the CDF $F_X$ using geometrical techniques (i.e., not using integrals, but considering what happens to the area to the left of a point $a$ by considering the area of geometrical shapes)\n",
    "  \n",
    "  (b) Determine the formula  for the CDF $F_X(x)$ using an integral. \n",
    "  \n",
    "  (c) Plot the CDF $F_X(x)$ (using the code above as a model).\n",
    "  \n",
    "  (d) Find $P(X\\ge 2)$ \n",
    "  \n",
    "  (e) Find $E(X)$ \n",
    "  \n",
    "For (d) -- (e) you must use mathematical techniques and not just calculate it using iterative techniques in Python code. You must show all your work, except that you may use Python to calculate results of mathematical formulae. "
   ]
  },
  {
   "cell_type": "markdown",
   "metadata": {},
   "source": [
    "<strong>Solution: </strong> \n",
    "\n",
    "$$ f(x) =\n",
    "\\begin{cases}\n",
    "    \\,1 & \\text{if x > 3} \\\\\n",
    "    {\\large\\frac{x^2 - 1}{8}} & \\text{if $1\\le x\\le 3$} \\\\[4pt]\n",
    "    \\,0 & \\text{if x< 1} \\\\\n",
    "\\end{cases}$$ \n",
    "\n",
    "\n",
    "\n",
    "\n",
    "$a) (x-1) * 0.25 + ((x-1) * (x/4 - 0.25))/ 2$"
   ]
  },
  {
   "cell_type": "markdown",
   "metadata": {},
   "source": [
    "b)   ${ \\int_{1}^{x}\\frac{x}{4}dx}$    => (1/4)* ((x^2)/2) = $\\frac{x^2-1}{8}dx$"
   ]
  },
  {
   "cell_type": "code",
   "execution_count": 139,
   "metadata": {},
   "outputs": [
    {
     "data": {
      "text/plain": [
       "[<matplotlib.lines.Line2D at 0x2498700c630>]"
      ]
     },
     "execution_count": 139,
     "metadata": {},
     "output_type": "execute_result"
    },
    {
     "data": {
      "image/png": "[encoded data removed]",
      "text/plain": [
       "<Figure size 432x288 with 1 Axes>"
      ]
     },
     "metadata": {
      "needs_background": "light"
     },
     "output_type": "display_data"
    }
   ],
   "source": [
    "plt.plot(np.arange(0,4,0.001),[0 if x<=1 else ((x**2)-1)/8 if 1 <= x <= 3 else 1 for x in np.arange(0,4,0.001)])"
   ]
  },
  {
   "cell_type": "code",
   "execution_count": 140,
   "metadata": {},
   "outputs": [
    {
     "data": {
      "text/plain": [
       "0.625"
      ]
     },
     "execution_count": 140,
     "metadata": {},
     "output_type": "execute_result"
    }
   ],
   "source": [
    "# d) 1/8x2  plug 2 instead of x and subtract 1\n",
    "\n",
    "1 - (((1/8)*2**2) - (1/8*1**2))"
   ]
  },
  {
   "cell_type": "markdown",
   "metadata": {},
   "source": [
    "e) ${ \\int_{∞ }^{-∞ }x *\\frac{x}{4}dx}$ = ${ \\int_{1}^{3}\\frac{x^2}{4}dx}$ => (3^3)/12 - (1^3)/12 = 27/12 - 1/12 = 26/12"
   ]
  },
  {
   "cell_type": "markdown",
   "metadata": {},
   "source": [
    "# Scipy.stats \n",
    "\n",
    "For the following, use the statistical functions given at the top of this notebook. \n",
    "\n",
    "Also consider using the Distributions Notebook posted online to visualize these distributions (but use scipy.stats for the calculations). \n",
    "\n",
    "You are not required to do so, but a nice touch is to print out your answer in a code block, i.e., if\n",
    "you were asked \"What is the probability in the standard normal that a value occurs in the interval between\n",
    "-0.94 and 1.2 standard deviations from 0,\" you could answer as follows:"
   ]
  },
  {
   "cell_type": "code",
   "execution_count": 141,
   "metadata": {},
   "outputs": [
    {
     "name": "stdout",
     "output_type": "stream",
     "text": [
      "Solution: 0.7113\n"
     ]
    }
   ],
   "source": [
    "mu = 0\n",
    "sigma = 1\n",
    "lo = -0.94\n",
    "hi = 1.2\n",
    "\n",
    "answer = norm.cdf(x=hi,loc=mu,scale=sigma) - norm.cdf(x=lo,loc=mu,scale=sigma)\n",
    "print(\"Solution: \" + str(round4(answer)))"
   ]
  },
  {
   "cell_type": "markdown",
   "metadata": {},
   "source": [
    "## Problem Five (Normal Distribution)\n",
    "\n",
    "Suppose that in a population of individuals, their height is  normally distributed with a mean of 68 inches and a standard deviation of 1.45 inches. </p>\n",
    "\n",
    "<p> (a) \n",
    "  What is the probability that a randomly-selected individual has a height less than 66 inches?</p>\n",
    "  \n",
    "<p>(b) What is the probability that a randomly-selected individual has a height more than 72 inches?</p>\n",
    "\n",
    "<p>(c) What is the probability that a randomly-selected individual has a height between 66.5 and 71 inches?</p>\n",
    " "
   ]
  },
  {
   "cell_type": "markdown",
   "metadata": {},
   "source": [
    "![](hw07.4c.png)"
   ]
  },
  {
   "cell_type": "markdown",
   "metadata": {},
   "source": [
    "<strong>Solution:</strong> \n"
   ]
  },
  {
   "cell_type": "code",
   "execution_count": 142,
   "metadata": {
    "scrolled": true
   },
   "outputs": [
    {
     "data": {
      "text/plain": [
       "0.0839"
      ]
     },
     "execution_count": 142,
     "metadata": {},
     "output_type": "execute_result"
    }
   ],
   "source": [
    "# a)\n",
    "round4(norm.cdf(x=66,loc=68,scale=1.45))"
   ]
  },
  {
   "cell_type": "code",
   "execution_count": 143,
   "metadata": {},
   "outputs": [
    {
     "data": {
      "text/plain": [
       "0.0029"
      ]
     },
     "execution_count": 143,
     "metadata": {},
     "output_type": "execute_result"
    }
   ],
   "source": [
    "# b)\n",
    "round4(norm.sf(x=72,loc=68,scale=1.45))"
   ]
  },
  {
   "cell_type": "code",
   "execution_count": 144,
   "metadata": {},
   "outputs": [
    {
     "data": {
      "text/plain": [
       "0.8303"
      ]
     },
     "execution_count": 144,
     "metadata": {},
     "output_type": "execute_result"
    }
   ],
   "source": [
    "round4(norm.cdf(x=71,loc=68,scale=1.45) - norm.cdf(x=66.5,loc=68,scale=1.45))"
   ]
  },
  {
   "cell_type": "markdown",
   "metadata": {},
   "source": [
    " ## Problem Six (Standard Normal Distribution)\n",
    "    \n",
    "Using the same mean and standard deviation as in the previous problem (mean of 68 inches and a standard deviation of 1.45 inches), show how to answer the following questions by first converting to the standard normal distribution (with mean 0 and standard deviation 1), and then calculating the answer in terms of the standard normal (i.e., when you calculate the probabilities, you will be using N(0,1).)  Show all work. For (c) you will not need to convert, but simply use the standard normal directly. \n",
    " \n",
    "(a) What is the probability that a randomly-selected individual has a height more than 69 inches?\n",
    "\n",
    "\n",
    "(b) What is the probability that a randomly-selected individual has a height between 63.2 and 70.7 inches?\n",
    "\n",
    "\n",
    "(c) What is the probability that someone is more than 2.7 standard deviations taller than the average height?\n"
   ]
  },
  {
   "cell_type": "markdown",
   "metadata": {},
   "source": [
    "<strong>Solution:</strong> \n",
    "\n",
    "N(0,1) => N(mean,variance)\n",
    "\n",
    "a)\n",
    "\n",
    "z = (69 - 68)/1.45 = 1/1.45\n",
    "z = 0.6897\n",
    "\n",
    "round4(norm.cdf(x=0.6897,loc=0,scale=1)) = 0.2452\n",
    "\n",
    "b)\n",
    "\n",
    "z1 = (70.7 - 68)/1.45 = 1.8621\n",
    "\n",
    "z2 = (63.2 - 68)/1.45 = -3.3103\n",
    "\n",
    "z1 - z2 = 0.9682\n",
    "\n",
    "c) 0.0035"
   ]
  },
  {
   "cell_type": "code",
   "execution_count": 145,
   "metadata": {},
   "outputs": [
    {
     "data": {
      "text/plain": [
       "0.2452"
      ]
     },
     "execution_count": 145,
     "metadata": {},
     "output_type": "execute_result"
    }
   ],
   "source": [
    "round4(norm.sf(x=0.6897,loc=0,scale=1))"
   ]
  },
  {
   "cell_type": "code",
   "execution_count": 146,
   "metadata": {},
   "outputs": [
    {
     "data": {
      "text/plain": [
       "0.9682"
      ]
     },
     "execution_count": 146,
     "metadata": {},
     "output_type": "execute_result"
    }
   ],
   "source": [
    "round4(norm.cdf(x=1.8621,loc=0,scale=1) - norm.cdf(x=-3.3103,loc=0,scale=1))"
   ]
  },
  {
   "cell_type": "code",
   "execution_count": 147,
   "metadata": {},
   "outputs": [
    {
     "data": {
      "text/plain": [
       "0.0035"
      ]
     },
     "execution_count": 147,
     "metadata": {},
     "output_type": "execute_result"
    }
   ],
   "source": [
    "round4(norm.sf(x=2.7,loc=0,scale=1))"
   ]
  },
  {
   "cell_type": "markdown",
   "metadata": {},
   "source": [
    "## Problem Seven (Normal Distribution)\n",
    "\n",
    "Suppose the grades on the 237 midterm are normally distributed with mean 83 and variance of 23. Answer the following questions.  By the \"k<sup>th</sup> percentile\" we mean the x value for which $P(X \\le x) = k/100$ (meaning $k$ is in percentages, and $k/100$ is in terms of probabilities.) \n",
    "\n",
    "Browse the functions from <code>scipy.stats.norm</code> given to see which one will solve each problem. \n",
    "\n",
    "(a) If an A is 93 or above, what percentage of the class will get an A?\n",
    "\n",
    "(b) What is the exam score which represents the 90<sup>th</sup> percentile? (Assume exam scores are real numbers.)\n",
    "\n",
    "(c) If a score between 70 and 80 results in a C, and there are 120 people in the class, approximately how many people will get a C? (Round to the nearest integer.) "
   ]
  },
  {
   "cell_type": "markdown",
   "metadata": {},
   "source": [
    "<strong>Solution:</strong>\n",
    "\n",
    "s.d = sqrt of 23 = 4.796\n",
    "\n",
    "a) 0.0185 = 1.8531%\n",
    "\n",
    "b) 89.1463\n",
    "\n",
    "c) Approximately 31 students if you consider (c) as 31.49 or 32 if you consider (c) as 31.5 "
   ]
  },
  {
   "cell_type": "code",
   "execution_count": 148,
   "metadata": {},
   "outputs": [
    {
     "data": {
      "text/plain": [
       "0.0185"
      ]
     },
     "execution_count": 148,
     "metadata": {},
     "output_type": "execute_result"
    }
   ],
   "source": [
    "# (a)\n",
    "round4(norm.sf(x=93,loc=83,scale=4.796))"
   ]
  },
  {
   "cell_type": "code",
   "execution_count": 149,
   "metadata": {},
   "outputs": [
    {
     "data": {
      "text/plain": [
       "89.1463"
      ]
     },
     "execution_count": 149,
     "metadata": {},
     "output_type": "execute_result"
    }
   ],
   "source": [
    "round4(norm.ppf(q=0.9,loc=83,scale=4.796))"
   ]
  },
  {
   "cell_type": "code",
   "execution_count": 150,
   "metadata": {},
   "outputs": [
    {
     "data": {
      "text/plain": [
       "31.4948"
      ]
     },
     "execution_count": 150,
     "metadata": {},
     "output_type": "execute_result"
    }
   ],
   "source": [
    "# Find P(70<X<80)\n",
    "round4((norm.cdf(x=80,loc=83,scale=4.796) - norm.cdf(x=70,loc=83,scale=4.796))*120)"
   ]
  },
  {
   "cell_type": "markdown",
   "metadata": {},
   "source": [
    "## Problem Eight (Combining Poisson with other Distributions)\n",
    "\n",
    "Suppose that in a certain region of California, earthquakes occur at the average rate of 7 per year. </p>\n",
    "<blockquote>\n",
    "  <p>(a) What is the probability that in exactly three of the next eight years, no earthquakes occur?</p>\n",
    "   <p>(b) What is the **expect**ed number of years to wait until we have a year with exactly 7 earthquakes?</p>\n",
    "    <p>(c) In the next century, how many years would you **expect** to see with more than 10 earthquakes?</p>\n",
    "</blockquote>\n",
    "\n",
    "Hint: When you see the word \"expect\" you should expect to use the expected value!"
   ]
  },
  {
   "cell_type": "markdown",
   "metadata": {},
   "source": [
    "**Solution**\n",
    "\n",
    "intensity = 7\n",
    "\n",
    "a) 4.2269e-08\n",
    "\n",
    "b) 6.7113\n",
    "\n",
    "c)P(X>10)*100 = 9.85"
   ]
  },
  {
   "cell_type": "code",
   "execution_count": 151,
   "metadata": {},
   "outputs": [
    {
     "data": {
      "text/plain": [
       "4.226908795802451e-08"
      ]
     },
     "execution_count": 151,
     "metadata": {},
     "output_type": "execute_result"
    }
   ],
   "source": [
    "#x~Poi(7)\n",
    "\n",
    "#round4(Poi(0,2.625))\n",
    "no_earth = (Poi(0,7))\n",
    "f_binomial(8,no_earth,3)"
   ]
  },
  {
   "cell_type": "code",
   "execution_count": 152,
   "metadata": {},
   "outputs": [
    {
     "data": {
      "text/plain": [
       "6.7113"
      ]
     },
     "execution_count": 152,
     "metadata": {},
     "output_type": "execute_result"
    }
   ],
   "source": [
    "p = (Poi(7,7))\n",
    "# E(x) of Geometric = 1/Poi(7,7)\n",
    "round4(1/p)"
   ]
  },
  {
   "cell_type": "markdown",
   "metadata": {},
   "source": [
    "## Problem Nine (Combining Normal with Other Distributions)\n",
    "\n",
    "Suppose that in the Men's Olympic Ski Team, the chest size measurements are normally distributed with a mean of 39.8 inches and a standard deviation of 2.05 inches.\n",
    "\n",
    "\n",
    "(a) What the probability that of 20 randomly selected members of the team, at least 5 have a chest size of at least 41.7 inches?\n",
    "\n",
    "(b) Supposing we choose men on the team repeatedly and with replacement, how many men would you expect to choose before finding a member with a chest measurement of less than 37 inches?\n",
    "\n",
    "Hint: Let X is a normally distributed random variable according to the parameters given in the first sentence. Then consider Y and Z be appropriately distributed random variables for (a) and (b) respectively. "
   ]
  },
  {
   "cell_type": "markdown",
   "metadata": {},
   "source": [
    "<strong>Solution</strong>\n",
    "\n",
    "a) Z = (41.7 - 39.8)/2.05 = 0.9268\n",
    "\n",
    "P(X>0.9268) = 0.1770\n",
    "\n",
    "Y-Bino(20,0.9268)\n",
    "\n",
    "P(X>=5) = 0.2725\n",
    "\n",
    "\n",
    "b) Z = (37 - 39.8)/2.05 = -1.36585\n",
    "\n",
    "P(X<-1.36585) = 0.086\n",
    "\n",
    "Z-Bino(20,0.086) \n",
    "\n",
    "E(X) = 20*v = 1.72 or around 2 men"
   ]
  },
  {
   "cell_type": "code",
   "execution_count": 153,
   "metadata": {},
   "outputs": [
    {
     "data": {
      "text/plain": [
       "0.2725"
      ]
     },
     "execution_count": 153,
     "metadata": {},
     "output_type": "execute_result"
    }
   ],
   "source": [
    "# problem a\n",
    "# probability it is more than 0.9268 P(X>93) and use that probability in binomial\n",
    "z = (norm.sf(x=0.92683,loc=0,scale=1))\n",
    "round4(1-(f_binomial(20,z,0) + f_binomial(20,z,1) + f_binomial(20,z,2) + f_binomial(20,z,3) + f_binomial(20,z,4)))"
   ]
  },
  {
   "cell_type": "code",
   "execution_count": 154,
   "metadata": {},
   "outputs": [
    {
     "data": {
      "text/plain": [
       "1.7199"
      ]
     },
     "execution_count": 154,
     "metadata": {},
     "output_type": "execute_result"
    }
   ],
   "source": [
    "#problem b)\n",
    "v = (norm.cdf(x=-1.36585,loc=0,scale=1))\n",
    "\n",
    "#Z~Bino(20,v) E(X)= Np or 20v in our case\n",
    "round4(20 * v)"
   ]
  },
  {
   "cell_type": "markdown",
   "metadata": {},
   "source": [
    "## Problem Ten (Normal Approximation to the Binomial)\n",
    "\n",
    "This problem concerns the normal approximation to the binomial. The &quot;continuity correction&quot; (sometimes called Yates's Continuity Correction) is a technique I will show in the Monday 10/21 lecture for improving the accurate of the normal approximation. \n",
    "\n",
    "In this problem we will measure the accuracy of the approximations by using\n",
    "*absolute percentage error*, which is defined to be:\n",
    "\n",
    "$$  \\frac{\\vert\\,\\text{measured value} - \\text{actual value}\\,\\vert}{\\text{actual value}}\\times 100.$$\n",
    "\n",
    "</p>\n",
    "<p>(a) Suppose of all the kids that show up on Halloween night, 58% are dressed in Deadpool costumes. If 60 kids show up, what is the probability that <span>between 33 and 38</span> (inclusive) kids will be dressed in Deadpool costumes? (Use the binomial.)</p>\n",
    "<p>(b) Repeat the previous question, but using the normal approximation to the binomial, without using the continuity correction, and express the accuracy of your approximation using the absolute percentage error.</p>\n",
    "<p>(c) Repeat the previous question, but now using the continuity correction, again showing the accuracy using the absolute percentage error. </p>\n"
   ]
  },
  {
   "cell_type": "markdown",
   "metadata": {},
   "source": [
    "<strong>Solution: </strong> \n"
   ]
  },
  {
   "cell_type": "code",
   "execution_count": 155,
   "metadata": {},
   "outputs": [
    {
     "name": "stdout",
     "output_type": "stream",
     "text": [
      "0.5609\n"
     ]
    }
   ],
   "source": [
    "#(a) Find P(60<X<80)\n",
    "a1 = round4(f_binomial(60,0.58,33) + f_binomial(60,0.58,34) + f_binomial(60,0.58,35) + f_binomial(60,0.58,36)+ f_binomial(60,0.58,37) \n",
    "+ f_binomial(60,0.58,38))\n",
    "print(a1)\n"
   ]
  },
  {
   "cell_type": "code",
   "execution_count": 156,
   "metadata": {},
   "outputs": [
    {
     "name": "stdout",
     "output_type": "stream",
     "text": [
      "0.4802\n",
      "Absolute Percentage Error: 14.3876%\n"
     ]
    }
   ],
   "source": [
    "b1 = round4(norm.cdf(x = 38, loc = 34.8, scale = 3.82) - norm.cdf(x=33,loc=34.8,scale=3.82))\n",
    "print(b1)\n",
    "print(\"Absolute Percentage Error: \" + str(14.3876) + \"%\")"
   ]
  },
  {
   "cell_type": "code",
   "execution_count": 157,
   "metadata": {},
   "outputs": [
    {
     "name": "stdout",
     "output_type": "stream",
     "text": [
      "0.5601\n",
      "Absolute Percentage Error: 0.1426%\n"
     ]
    }
   ],
   "source": [
    "c1 = round4(norm.cdf(x = 38.5, loc = 34.8, scale = 3.82) - norm.cdf(x=32.5,loc=34.8,scale=3.82))\n",
    "print(c1)\n",
    "print(\"Absolute Percentage Error: \" + str(0.1426) + \"%\")"
   ]
  },
  {
   "cell_type": "markdown",
   "metadata": {},
   "source": [
    "# Lab Problems\n",
    "\n",
    "## Generating Variates from a Continuous Distribution\n",
    "\n",
    "Samples from a given distribution are often called \"random variates\" or just \"variates\" for short; to \n",
    "generate <i>size</i> random variates from a normal distribution with mean <i>loc</i> and standard \n",
    "deviation <i> scale </i> we can use the <code>scipy.stats</code> function \n",
    "<pre>\n",
    " X = norm.rvs(loc=0,scale=1,size=num_trials)\n",
    "</pre>\n",
    "\n",
    "(Note that in this case, the normal is defined in terms of the standard devation, and <i>not</i> the variance.)\n",
    "\n",
    "Run the next cell several times to get a sense for how this function works"
   ]
  },
  {
   "cell_type": "code",
   "execution_count": 158,
   "metadata": {},
   "outputs": [
    {
     "name": "stdout",
     "output_type": "stream",
     "text": [
      "From N(0,1):\n",
      "2.4645901228104976\n",
      "\n",
      "From N(10,2^2):\n",
      "8.499890518273183\n",
      "\n",
      "Ten  variates from N(66,3^2):\n",
      "[60.22354105 60.85914119 67.17587651 66.82390426 64.23522175 68.02266762\n",
      " 58.92625012 69.74201117 67.03907656 67.01409306]\n"
     ]
    }
   ],
   "source": [
    "print(\"From N(0,1):\")\n",
    "X = norm.rvs()       # default is a standard normal with mean 0 and standard deviation 1\n",
    "print(X)\n",
    "print()\n",
    "print(\"From N(10,2^2):\")\n",
    "X = norm.rvs(10,2)   # defined by mean and standard deviation (NOT the variance)\n",
    "print(X)\n",
    "print()\n",
    "print(\"Ten  variates from N(66,3^2):\")\n",
    "X = norm.rvs(66,3,size=10)\n",
    "print(X)\n"
   ]
  },
  {
   "cell_type": "markdown",
   "metadata": {},
   "source": [
    "### Graphing Continuous Variates: A Problem\n",
    "So generating normal variates is easy! Think of them as heights of BU students picked at random. We'll assume they have a mean height of 66 inches with a variance of 3 inches. \n",
    "\n",
    "What we are going to concern ourselves with in this first problem is now to display a collection of such normal numbers.\n",
    "\n",
    "Here is the problem: since each value occurs (with high probability) only once, we can't just create a histogram and convert it into a frequency distribution. **Essentially we are trying to create a frequency distribution from values whose theoretical probability is 0.**\n",
    "\n",
    "Here is what happens if we do this, and graph it as a scatter plot against the theoretical (continuous) distribution:"
   ]
  },
  {
   "cell_type": "code",
   "execution_count": 159,
   "metadata": {},
   "outputs": [
    {
     "data": {
      "image/png": "[encoded data removed]",
      "text/plain": [
       "<Figure size 864x432 with 1 Axes>"
      ]
     },
     "metadata": {
      "needs_background": "light"
     },
     "output_type": "display_data"
    }
   ],
   "source": [
    "def display_normal_samples(mu,sigma,num_trials):\n",
    "    fig, ax = plt.subplots(1,1,figsize=(12,6))\n",
    "    plt.title('Analytical and Experimental Distributions for N('+str(mu)+','+str(sigma)+')')\n",
    "    plt.ylabel(\"P(X=k)\")\n",
    "    plt.xlabel(\"k in Range(X)\")\n",
    "    # use normal(...) to generate random samples\n",
    "    X = sorted(norm.rvs(mu,sigma,num_trials))\n",
    "    # Now convert frequency counts into probabilities\n",
    "    D = Counter( X )\n",
    "    P = [D[k]/num_trials for k in X]\n",
    "    plt.scatter(X,P)\n",
    "    # Now generate the theoretical normal with the same mean and \n",
    "    X2 = np.linspace(mu-sigma*3,mu+sigma*3,100)\n",
    "    Y = [norm.pdf(x,mu,sigma) for x in X2]\n",
    "    plt.plot(X2,Y)\n",
    "    plt.show()\n",
    "\n",
    "# try setting the number of trials - the number of samples generated -- to 100 and 1000.\n",
    "num_trials = 1000\n",
    "display_normal_samples(66,3,num_trials)"
   ]
  },
  {
   "cell_type": "markdown",
   "metadata": {},
   "source": [
    "### Graphing Continuous Variates with Bins\n",
    "You see the problem: since each floating point number (an approximation of a real number) is \n",
    "    generated with high probability at most once, we can't see the accumulation of samples that would\n",
    "    indicate the probability. What to do?  Well, you know that probabilities can only be calculated in continuous distributions using <i>intervals</i>, so we will create equally-sized intervals to collect together our samples from the continuous distribution. Then we must \"slot\" each variate into its appropriate bin and calculate the probabilities.    \n",
    "\n",
    "The pyplot function hist(...) does the slotting, if we give it a list of outcomes and the bin boundaries, so\n",
    "that really all we have to do is define the bins.  \n",
    "\n",
    "**In essence, we are turning a continuous distribution into a discrete one for the purposes of visualizing it.**\n",
    "\n",
    "### Graphing Normal Variates with Bins Calculated from Standard Deviation\n",
    "\n",
    "For the normal distribution it makes sense to define the bin boundaries in terms of standard deviations from the mean, since we will be dealing with an unknown range of data; this bins can be made as wide or as narrow as we want, but will represent an interval defined in terms of the standard deviation sigma of the distribution. \n",
    "\n",
    "We will graph the distribution in a range of at least 4 standard deviations of the mean, ignoring the rare occurance of a variate outside this range. "
   ]
  },
  {
   "cell_type": "code",
   "execution_count": 160,
   "metadata": {},
   "outputs": [
    {
     "name": "stdout",
     "output_type": "stream",
     "text": [
      "[46.0, 48.5, 51.0, 53.5, 56.0, 58.5, 61.0, 63.5, 66.0, 68.5, 71.0, 73.5, 76.0, 78.5, 81.0, 83.5, 86.0]\n"
     ]
    }
   ],
   "source": [
    "# Define the boundaries of bins with the specified width around the mean, \n",
    "# to plus/minus at least 4 * sigma\n",
    "\n",
    "# bin_width is in units of sigma, so bin_width = 0.1 means sigma/10\n",
    "\n",
    "def makeBins(mu,sigma,bin_width):\n",
    "    numBins = ceil(4/bin_width)\n",
    "    bins = [mu+sigma*bin_width*x for x in range(-numBins,numBins+1)]\n",
    "    return bins\n",
    "\n",
    "# Change the parameters several times to see the effect of this\n",
    "\n",
    "print(makeBins(66,5,.5))\n",
    "           "
   ]
  },
  {
   "cell_type": "markdown",
   "metadata": {},
   "source": [
    "## Problem Eleven: Generating and Graphing Normal Variates\n",
    "\n",
    "### How does the number of trials affect the fit of the data to the normal distribution?\n",
    "Now let's do our previous experiment but trying various \n",
    "values for bin_width..."
   ]
  },
  {
   "cell_type": "code",
   "execution_count": 161,
   "metadata": {},
   "outputs": [
    {
     "name": "stderr",
     "output_type": "stream",
     "text": [
      "C:\\Users\\Rashid\\Anaconda3\\lib\\site-packages\\ipykernel_launcher.py:8: MatplotlibDeprecationWarning: \n",
      "The 'normed' kwarg was deprecated in Matplotlib 2.1 and will be removed in 3.1. Use 'density' instead.\n",
      "  \n"
     ]
    },
    {
     "data": {
      "image/png": "[encoded data removed]",
      "text/plain": [
       "<Figure size 864x432 with 1 Axes>"
      ]
     },
     "metadata": {
      "needs_background": "light"
     },
     "output_type": "display_data"
    }
   ],
   "source": [
    "def display_normal_samples_binned(mu,sigma,num_trials,bin_widths):\n",
    "    fig, ax = plt.subplots(1,1,figsize=(12,6))\n",
    "    plt.title('Analytical and Experimental Distributions for N('+str(mu)+','+str(sigma)+')')\n",
    "    plt.ylabel(\"f(k)\")\n",
    "    plt.xlabel(\"k in Range(X)\")\n",
    "    # use norm.rvs(...) to generate random samples\n",
    "    X = norm.rvs(mu,sigma,num_trials)\n",
    "    plt.hist(X,bins=makeBins(mu,sigma,bin_widths),normed=True,edgecolor='k',alpha=0.5) # bins are of width 1/10**decimals\n",
    "    # if get deprecation warning for normed, use the next line instead (or don't worry about it)\n",
    "    # plt.hist(X,bins=makeBins(mu,sigma,bin_widths),density=True,edgecolor='k',alpha=0.5) # bins are of width 1/10**decimals\n",
    " \n",
    "    # Now generate the theoretical normal with the same mean and \n",
    "    X2 = np.linspace(mu-sigma*3,mu+sigma*3,100)\n",
    "    Y = [norm.pdf(x,mu,sigma) for x in X2]\n",
    "    plt.plot(X2,Y)\n",
    "    plt.show()\n",
    "    \n",
    "#try each of these and observe the effects\n",
    "\n",
    "N = 1000000     # try 100, 1000, and 1,000,000\n",
    "\n",
    "display_normal_samples_binned(66,3,N,0.1)       \n",
    "   "
   ]
  },
  {
   "cell_type": "markdown",
   "metadata": {},
   "source": [
    "<b>Clearly the data seems to fit the normal better when the number of trials increases...</b>\n",
    "\n",
    "### Affect of the bin width\n",
    "\n",
    "But now let's think about the issue of precision, i.e., the width of the bins.\n",
    "Again, try each of the following and see what happens. You can see that too-wide bins don't give much information, but too-narrow bins don't show how the data fits the normal distribution. There is a relationship between the number of data points and the width of the bins."
   ]
  },
  {
   "cell_type": "code",
   "execution_count": 162,
   "metadata": {},
   "outputs": [
    {
     "name": "stderr",
     "output_type": "stream",
     "text": [
      "C:\\Users\\Rashid\\Anaconda3\\lib\\site-packages\\ipykernel_launcher.py:8: MatplotlibDeprecationWarning: \n",
      "The 'normed' kwarg was deprecated in Matplotlib 2.1 and will be removed in 3.1. Use 'density' instead.\n",
      "  \n"
     ]
    },
    {
     "data": {
      "image/png": "[encoded data removed]",
      "text/plain": [
       "<Figure size 864x432 with 1 Axes>"
      ]
     },
     "metadata": {
      "needs_background": "light"
     },
     "output_type": "display_data"
    }
   ],
   "source": [
    "bin_width = 0.01       # try changing this to 0.5, 0.2, 0.1, 0.05, and 0.01\n",
    "\n",
    "display_normal_samples_binned(66,3,1000,bin_width)"
   ]
  },
  {
   "cell_type": "markdown",
   "metadata": {},
   "source": [
    "### Problem 11 (a)\n",
    "Clearly the \"fit\" with the normal curve depends on the width of the bins!\n",
    "For the following three examples, find a value for the indicated parameter which gives a good correspondence\n",
    "between the normal curve and the data. \n",
    "\n",
    "For the rest of these problems, just leave the code with your solution value and display the results -- no need to do anything else. "
   ]
  },
  {
   "cell_type": "code",
   "execution_count": 177,
   "metadata": {},
   "outputs": [
    {
     "name": "stderr",
     "output_type": "stream",
     "text": [
      "C:\\Users\\Rashid\\Anaconda3\\lib\\site-packages\\ipykernel_launcher.py:8: MatplotlibDeprecationWarning: \n",
      "The 'normed' kwarg was deprecated in Matplotlib 2.1 and will be removed in 3.1. Use 'density' instead.\n",
      "  \n"
     ]
    },
    {
     "data": {
      "image/png": "[encoded data removed]",
      "text/plain": [
       "<Figure size 864x432 with 1 Axes>"
      ]
     },
     "metadata": {
      "needs_background": "light"
     },
     "output_type": "display_data"
    }
   ],
   "source": [
    "# Problem 1(a)\n",
    "\n",
    "bin_width = 0.5    # experiment with this value 0.01, 0.05, 0.1, 0.15, etc. -- find the \n",
    "                   # largest number which still gives a good fit\n",
    "    \n",
    "display_normal_samples_binned(0,10,3000,bin_width)     # don't change this line\n",
    "\n"
   ]
  },
  {
   "cell_type": "markdown",
   "metadata": {},
   "source": [
    "### Problem 11 (b)"
   ]
  },
  {
   "cell_type": "code",
   "execution_count": 211,
   "metadata": {},
   "outputs": [
    {
     "name": "stderr",
     "output_type": "stream",
     "text": [
      "C:\\Users\\Rashid\\Anaconda3\\lib\\site-packages\\ipykernel_launcher.py:8: MatplotlibDeprecationWarning: \n",
      "The 'normed' kwarg was deprecated in Matplotlib 2.1 and will be removed in 3.1. Use 'density' instead.\n",
      "  \n"
     ]
    },
    {
     "data": {
      "image/png": "[encoded data removed]",
      "text/plain": [
       "<Figure size 864x432 with 1 Axes>"
      ]
     },
     "metadata": {
      "needs_background": "light"
     },
     "output_type": "display_data"
    }
   ],
   "source": [
    "## Problem 1(b)\n",
    "\n",
    "bin_width = 0.37     # experiment with this value -- find the largest number which still gives a good fit\n",
    "\n",
    "display_normal_samples_binned(0,0.1,10000,bin_width)     # don't change this line\n",
    "\n"
   ]
  },
  {
   "cell_type": "markdown",
   "metadata": {},
   "source": [
    "### Problem 11 (c)"
   ]
  },
  {
   "cell_type": "code",
   "execution_count": 165,
   "metadata": {},
   "outputs": [
    {
     "name": "stderr",
     "output_type": "stream",
     "text": [
      "C:\\Users\\Rashid\\Anaconda3\\lib\\site-packages\\ipykernel_launcher.py:8: MatplotlibDeprecationWarning: \n",
      "The 'normed' kwarg was deprecated in Matplotlib 2.1 and will be removed in 3.1. Use 'density' instead.\n",
      "  \n"
     ]
    },
    {
     "data": {
      "image/png": "[encoded data removed]",
      "text/plain": [
       "<Figure size 864x432 with 1 Axes>"
      ]
     },
     "metadata": {
      "needs_background": "light"
     },
     "output_type": "display_data"
    }
   ],
   "source": [
    "# Problem 11(c)\n",
    "\n",
    "bin_width = 0.24    # experiment with this value -- find the largest number which still gives a good fit\n",
    "\n",
    "display_normal_samples_binned(1000,100,10000,bin_width)     # don't change this line\n",
    "\n"
   ]
  },
  {
   "cell_type": "markdown",
   "metadata": {},
   "source": [
    "### Problem 11 (d) \n",
    "\n",
    "What do you think is a good value for bin_width in general, assuming that num_trials is \n",
    "sufficient to give a reasonable approximation of the normal distribution\n",
    "\n"
   ]
  },
  {
   "cell_type": "markdown",
   "metadata": {},
   "source": [
    "**Solution**\n",
    "\n",
    "I noticed a correlation between the num_trials and bin_width. It seems if you increase the num_trials, you need to decrese the bin_width to illustrate that data accurately. 0.1 bin_width seems to work the best with big num_trials value."
   ]
  },
  {
   "cell_type": "markdown",
   "metadata": {},
   "source": [
    "##  Problem Twelve: Generating Poisson and Exponential Variates\n",
    "\n",
    "Following up on HW 5, Problem 12,  we now explore how to generate random variates from the Exponential and Poisson Distributions. We will display the results using a similar \"binning\" technique like we used in the previous problem. \n",
    "\n",
    "### Part (A)\n",
    "\n",
    "The following formula should look familiar!  If U is a random variable uniformly distributed in the range [0..1), then\n",
    "\n",
    "$$  Y =   \\frac{- \\ln{( U )} }{\\lambda}  $$            \n",
    "          \n",
    "is a real number which is distributed according to the Exponential Distribution with rate parameter $\\lambda$, \n",
    "i.e., \n",
    "\n",
    "$$ Y \\sim Exp(\\lambda).$$\n",
    "\n",
    "Note: $\\ln$ is log to the base $e$ (just <code>log(...)</code> in Python). \n",
    "\n",
    "\n",
    "For this problem, you must create a function <code>exp_rvs(...)</code> which generates exponential variates, using this formula (it is very similar to your solution to the last problem in HW 5), and demonstrate it by printing out 10 values for $\\lambda = 4$. \n",
    "\n"
   ]
  },
  {
   "cell_type": "code",
   "execution_count": 166,
   "metadata": {},
   "outputs": [
    {
     "name": "stdout",
     "output_type": "stream",
     "text": [
      "[0.04227577129370466, 0.06928301239535861, 0.21653514653972164, 0.3378121740979418, 0.16771205450973864, 0.22600771216986748, 0.060900798344498956, 0.2982477266126604, 0.18527102628047376, 0.1347282520024191]\n"
     ]
    }
   ],
   "source": [
    "## Solution for (A)\n",
    "\n",
    "def exp_rvs(lam):\n",
    "    u = random()\n",
    "    answer1 = -log(u)/lam\n",
    "    return answer1            # your answer here\n",
    "\n",
    "# test it\n",
    "\n",
    "seed(0)\n",
    "\n",
    "lam = 4 \n",
    "          \n",
    "num_trials = 10\n",
    "# u = np.random.uniform(0,1) answer1 = [1 + (math.floor(log(random())/ log(1-p))) for i in range(num_trials)]\n",
    "\n",
    "value = [exp_rvs(lam) for i in range(num_trials)]\n",
    "print(value)\n",
    "#exp_rvs(lam)\n",
    "\n",
    "# seed doesn't work?"
   ]
  },
  {
   "cell_type": "markdown",
   "metadata": {},
   "source": [
    "### Part (B)\n",
    "\n",
    "Now you must complete the following code template to display\n",
    "the results of generating $10^5$ exponential variates from Exp(1), and\n",
    "finding a way to bin the results so that you get an accurate idea\n",
    "of how well they fit the theoretical distribution. \n",
    "\n",
    "The binning here is a little simpler than in the case of the normal distribution, we will simply give the values we want\n",
    "to display (since the range is infinite) and the number of bins to show. This might involve a little tweaking to get a good diagram....\n",
    "\n",
    "In order to prepare your experimental results with the theory, you will have to write\n",
    "the function for the exponential pdf (easy, but humor me!). \n",
    "\n",
    "\n",
    "Optional: Can you think of a way of limiting the range based on $\\lambda$?"
   ]
  },
  {
   "cell_type": "code",
   "execution_count": 167,
   "metadata": {},
   "outputs": [
    {
     "name": "stderr",
     "output_type": "stream",
     "text": [
      "C:\\Users\\Rashid\\Anaconda3\\lib\\site-packages\\ipykernel_launcher.py:22: MatplotlibDeprecationWarning: \n",
      "The 'normed' kwarg was deprecated in Matplotlib 2.1 and will be removed in 3.1. Use 'density' instead.\n"
     ]
    },
    {
     "data": {
      "image/png": "[encoded data removed]",
      "text/plain": [
       "<Figure size 864x432 with 1 Axes>"
      ]
     },
     "metadata": {
      "needs_background": "light"
     },
     "output_type": "display_data"
    }
   ],
   "source": [
    "## Solution for (B)\n",
    "\n",
    "def exp_pdf(lam,x):\n",
    "    if (x>=0):\n",
    "        return(lam*e**(-lam*x))\n",
    "    else:\n",
    "        return 0\n",
    "    #return 0                   # Your answer here\n",
    "\n",
    "\n",
    "def display_exponential_samples_binned(lam,num_trials,limit,num_bins):\n",
    "    fig, ax = plt.subplots(1,1,figsize=(12,6))\n",
    "    plt.title('Analytical and Experimental Distributions for Exp('+str(lam)+')')\n",
    "    plt.ylabel(\"f(k)\")\n",
    "    plt.xlabel(\"k in Range(X)\")\n",
    "    # use exp_rvs(...) to generate random samples\n",
    "    X = [exp_rvs(lam) for k in range(num_trials)]\n",
    "    # filter out those above the limit\n",
    "    X1 = [ x for x in X if x < limit ]\n",
    "    # make the bins\n",
    "    bs = linspace(0,limit,num_bins)\n",
    "    plt.hist(X,bins=bs,normed=True,edgecolor='k',alpha=0.5)\n",
    "    #plt.hist(X,bins=bs,density=True,edgecolor='k',alpha=0.5)          # use this line if get warning about normed\n",
    "    # Now generate the theoretical distribution with the same rate\n",
    "    X2 = linspace(0,limit,100)\n",
    "    Y = [ exp_pdf(lam,x) for x in X2]\n",
    "    plt.plot(X2,Y)\n",
    "    plt.show()\n",
    "\n",
    "# test it\n",
    "          \n",
    "lam = 1 \n",
    "          \n",
    "num_trials = 10**5\n",
    "\n",
    "# You will only display values in range [0 .. limit]\n",
    "\n",
    "limit = 5        # Your answer here        \n",
    "\n",
    "# The range will be put into this many bins\n",
    "\n",
    "num_bins = 55     # Your answer here\n",
    "\n",
    "seed(0)\n",
    "\n",
    "display_exponential_samples_binned(lam,num_trials,limit,num_bins)"
   ]
  },
  {
   "cell_type": "markdown",
   "metadata": {},
   "source": [
    "### Part (C)\n",
    "\n",
    "Now we will generate Poisson random variates by simulation, counting how many exponentially-distributed arrivals occur in a unit time (using our result from (a)). \n",
    "\n",
    "\n",
    "For this problem, first recall that $\\lambda$ is the number of arrivals per unit time (meaning in 1.0 time units);\n",
    "so to simulate one \"poke\" at the Poisson RV <code>poi_rvs(lam)</code> you should \"poke\" the exponential RV you wrote above, summing the values until you exceed 1.0, then you can count how many arrivals in fact arrived between times 0 and 1.0. \n",
    "\n",
    "Fill in the function stub and verify by running the code block to see the results (you can compare them\n",
    "with the theoretical distribution on the Distributions notebook). \n",
    " \n"
   ]
  },
  {
   "cell_type": "code",
   "execution_count": 168,
   "metadata": {},
   "outputs": [
    {
     "data": {
      "image/png": "[encoded data removed]",
      "text/plain": [
       "<Figure size 576x432 with 1 Axes>"
      ]
     },
     "metadata": {
      "needs_background": "light"
     },
     "output_type": "display_data"
    }
   ],
   "source": [
    "## Solution for (C)\n",
    "\n",
    "def poi_rvs(lam):\n",
    "    count = 0\n",
    "    total = 0\n",
    "    while (total <= 1):\n",
    "        t = exp_rvs(lam)\n",
    "        total = total + t\n",
    "        count = count + 1\n",
    "    return (count-1)\n",
    "          \n",
    "lam = 4 \n",
    "          \n",
    "num_trials = 10**6\n",
    "\n",
    "seed(0)\n",
    "\n",
    "Outcomes12c = [ poi_rvs(lam) for k in range(num_trials)]\n",
    "\n",
    "show_distribution( Outcomes12c , \"Empirical Probability Distribution for Poi(\" + str(lam) + \")\")\n"
   ]
  }
 ],
 "metadata": {
  "kernelspec": {
   "display_name": "Python 3",
   "language": "python",
   "name": "python3"
  },
  "language_info": {
   "codemirror_mode": {
    "name": "ipython",
    "version": 3
   },
   "file_extension": ".py",
   "mimetype": "text/x-python",
   "name": "python",
   "nbconvert_exporter": "python",
   "pygments_lexer": "ipython3",
   "version": "3.7.3"
  }
 },
 "nbformat": 4,
 "nbformat_minor": 2
}
