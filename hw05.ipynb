{
 "cells": [
  {
   "cell_type": "markdown",
   "metadata": {},
   "source": [
    "# CS 237 Fall 2019   Homework Five\n",
    "\n",
    "### Due date: PDF file due Thursday October 10th @ 11:59PM in GradeScope with 6-hour grace period\n",
    "\n",
    "### Late deadline:  If submitted up to 24 hours late, you will receive a 10% penalty (with same 6 hours grace period)\n",
    "\n",
    "### General Instructions\n",
    "\n",
    "Please complete this notebook by filling in solutions where indicated. Be sure to \"Run All\" from the Cell menu before submitting. \n",
    "\n",
    "There are two sections to the homework: problems 1 - 8 are analytical problems about last\n",
    "week's material, and the remaining problems are coding problems which will be discussed in lab next week. \n"
   ]
  },
  {
   "cell_type": "code",
   "execution_count": 33,
   "metadata": {},
   "outputs": [],
   "source": [
    "# Here are some imports which will be used in code that we write for CS 237\n",
    " \n",
    "\n",
    "# Imports potentially used for this lab\n",
    "\n",
    "\n",
    "import matplotlib.pyplot as plt   # normal plotting\n",
    "import numpy as np\n",
    "import math\n",
    "\n",
    "#from math import log, pi, sqrt       # import whatever you want from math\n",
    "\n",
    "from random import seed, random\n",
    "from scipy.misc import comb\n",
    "from collections import Counter\n",
    "\n",
    "%matplotlib inline\n",
    "\n",
    "# Calculating permutations and combinations efficiently\n",
    "\n",
    "def P(N,K):\n",
    "    res = 1\n",
    "    for i in range(K):\n",
    "        res *= N\n",
    "        N = N - 1\n",
    "    return res\n",
    "           \n",
    "def C(N,K):    \n",
    "    return comb(N,K,True)     # just a wrapper around the scipy function\n",
    "\n",
    "\n",
    "# Useful code \n",
    "\n",
    "def show_distribution(outcomes, title='Probability Distribution'):\n",
    "    num_trials = len(outcomes)\n",
    "    X = range( int(min(outcomes)), int(max(outcomes))+1 )\n",
    "    freqs = Counter(outcomes)\n",
    "    Y = [freqs[i]/num_trials for i in X]\n",
    "    plt.bar(X,Y,width=1.0,edgecolor='black')\n",
    "    if (X[-1] - X[0] < 30):\n",
    "        ticks = range(X[0],X[-1]+1)\n",
    "        plt.xticks(ticks, ticks) \n",
    "    plt.xlabel(\"Outcomes\")\n",
    "    plt.ylabel(\"Probability\")\n",
    "    plt.title(title)\n",
    "    plt.show()\n",
    "\n",
    "# This function takes a list of outcomes and a list of probabilities and\n",
    "# draws a chart of the probability distribution.\n",
    "\n",
    "def draw_distribution(Rx, fx, title='Probability Distribution for X'):\n",
    "    plt.bar(Rx,fx,width=1.0,edgecolor='black')\n",
    "    plt.ylabel(\"Probability\")\n",
    "    plt.xlabel(\"Outcomes\")\n",
    "    if (Rx[-1] - Rx[0] < 30):\n",
    "        ticks = range(Rx[0],Rx[-1]+1)\n",
    "        plt.xticks(ticks, ticks)  \n",
    "    plt.title(title)\n",
    "    plt.show()\n",
    "    \n",
    "def round4(x):\n",
    "    return round(x+0.00000000001,4)\n",
    "\n",
    "def round4_list(L):\n",
    "    return [ round4(x) for x in L]\n"
   ]
  },
  {
   "cell_type": "markdown",
   "metadata": {},
   "source": [
    "## Analytical Problem Instructions\n",
    "\n",
    "Some of the following problems ask you to \"describe\" a random variable, which means:\n",
    "\n",
    "> (i)   Give $R_X$ (you may schematize it if it is very complicated or infinite);<br>\n",
    "> (ii)  List out the values of $f_X$ corresponding to each element of $R_X$; <br>\n",
    "> (iii)  Draw a probability distribution, using the function <code>draw_distribution</code> provided in the previous cell. <br>\n",
    "> (iv) Give $E(X)$; <br>\n",
    "> (v)  Give $Var(X)$ and $\\sigma_X$. <br>\n",
    "\n",
    "As always, round to 4 decimal places <strong>at the last stage</strong>, using the functions <code>round4(...)</code> and <code>round4_list(...)</code> given above.\n",
    "\n",
    "A nice way to approach these is to do any complicated calculations in Python and then if you have\n",
    "to change something you won't have to redo all the calculations. Plus, you will make fewer\n",
    "mistakes in calculation. However, there is no need to do this for simpler problems. \n",
    "\n",
    "I also **strongly** recommend creating new variables for each problem, for example Rx1, Rx2, etc. for\n",
    "the range of the random variable in problems 1, 2, etc.   That way, you won't have problems if you\n",
    "forget and use the wrong variable! You can also refer to previous results without problems. \n",
    "\n",
    "Following Problem One is an example of what I mean (it is a simple problem, but I am showing you\n",
    "how you could approach it). \n",
    "\n",
    "You are not **required** to do it this way, but I *encourage* you to do something similar. "
   ]
  },
  {
   "cell_type": "markdown",
   "metadata": {},
   "source": [
    "## Example Problem\n",
    "\n",
    "\n",
    "*Describe* the random variable X = \"the number of heads showing on 2 flipped fair coins\"\n"
   ]
  },
  {
   "cell_type": "code",
   "execution_count": 36,
   "metadata": {},
   "outputs": [
    {
     "name": "stdout",
     "output_type": "stream",
     "text": [
      "Solution:\n",
      "\n",
      "(i)   Rx = [0, 1, 2]\n",
      "(ii)  fx = [0.25, 0.5, 0.25]\n",
      "(iii)\n"
     ]
    },
    {
     "name": "stderr",
     "output_type": "stream",
     "text": [
      "C:\\Users\\Rashid\\Anaconda3\\lib\\site-packages\\ipykernel_launcher.py:29: DeprecationWarning: `comb` is deprecated!\n",
      "Importing `comb` from scipy.misc is deprecated in scipy 1.0.0. Use `scipy.special.comb` instead.\n"
     ]
    },
    {
     "data": {
      "image/png": "[encoded data removed]",
      "text/plain": [
       "<Figure size 432x288 with 1 Axes>"
      ]
     },
     "metadata": {
      "needs_background": "light"
     },
     "output_type": "display_data"
    },
    {
     "name": "stdout",
     "output_type": "stream",
     "text": [
      "(b)   E(X) = 1.0\n",
      "(c)   Var(X) = 0.5\n",
      "      sigma_X = 0.7071\n"
     ]
    }
   ],
   "source": [
    "Rx0 = list(range(3))\n",
    "\n",
    "def f0(k):                        # if you write f as a Python function, then you can create the list\n",
    "    return  C(2,k)/4              # fx by using a list comprehension, as shown here:\n",
    "    \n",
    "fx0 = [ f0(k) for k in Rx0 ]\n",
    "\n",
    "print(\"Solution:\\n\")\n",
    "print(\"(i)   Rx =\",Rx0)\n",
    "print(\"(ii)  fx =\",round4_list(fx0))             # in case you get complicated decimals, round to 4 places\n",
    "print(\"(iii)\")\n",
    "\n",
    "draw_distribution( Rx0, fx0, title='PDF for Example Problem')\n",
    "\n",
    "(E0,V0,s0) = stats(Rx0,fx0)         # uses function you will write in Problem 1\n",
    "\n",
    "print(\"(b)   E(X) =\",round4(E0))\n",
    "print(\"(c)   Var(X) = \" + str(round4(V0)))\n",
    "print(\"      sigma_X = \" + str(round4(s0)))\n"
   ]
  },
  {
   "cell_type": "markdown",
   "metadata": {},
   "source": [
    "## Problem One\n",
    "\n",
    "In order to understand how to calculate these statistical measures we have been learning\n",
    "this week, you will write a function which will return the most important measures,\n",
    "and since these involve very similar kinds of computations, to avoid extra work, we will\n",
    "return this as a triple (expected-value,variance,standard deviation).\n",
    "\n",
    "Complete the following function stub, and demonstrate it on the random variable $X$ from the sample problem. \n",
    "\n",
    "\n",
    "[Optional, but a great idea: Write a function PrintSolution(...) which prints out all the answers as shown in the Example Problem!]"
   ]
  },
  {
   "cell_type": "code",
   "execution_count": 35,
   "metadata": {},
   "outputs": [
    {
     "name": "stdout",
     "output_type": "stream",
     "text": [
      "Solution:\n",
      "\n",
      "E(X) = 1.0   Var(X) = 0.5   sigma(X) = 0.7071\n"
     ]
    }
   ],
   "source": [
    "# Function to compute most common one-number measures for X\n",
    "def stats(Rx,fx):\n",
    "    outcomes = [(Rx[i] * fx[i]) for i in range(len(Rx))]\n",
    "    expected_Value = sum(outcomes)\n",
    "    var = [((Rx[i]**2) * fx[i]) for i in range(len(Rx))]\n",
    "    varia = sum(var)\n",
    "    variance = varia - (expected_Value**2)\n",
    "    \n",
    "    standard_Deviation = np.sqrt(variance)\n",
    "    \n",
    "    return(expected_Value, variance, standard_Deviation)\n",
    "    \n",
    "def printSolution(Rx0, fx0, E0, V0, s0):\n",
    "    print(\"Solution:\\n\")\n",
    "    print(\"(i)   Rx =\",Rx0)\n",
    "    print(\"(ii)  fx =\",round4_list(fx0))             # in case you get complicated decimals, round to 4 places\n",
    "    print(\"(iii)\")\n",
    "\n",
    "    draw_distribution( Rx0, fx0, title='PDF for the Problem')\n",
    "\n",
    "    (E0,V0,s0) = stats(Rx0,fx0)         # uses function you will write in Problem 1\n",
    "\n",
    "    print(\"(iv)  E(X) =\",round4(E0))\n",
    "    print(\"(v)   Var(X) = \" + str(round4(V0)))\n",
    "    print(\"      sigma_X = \" + str(round4(s0)))\n",
    "\n",
    "\n",
    "(E1,V1,s1) = stats(Rx0,fx0)\n",
    "\n",
    "print(\"Solution:\\n\")\n",
    "print(\"E(X) =\",E1,\"  Var(X) =\",V1, \"  sigma(X) =\", round4(s1))"
   ]
  },
  {
   "cell_type": "markdown",
   "metadata": {},
   "source": [
    "\n",
    "\n"
   ]
  },
  {
   "cell_type": "markdown",
   "metadata": {},
   "source": [
    "## Problem Two\n",
    "\n",
    "Suppose you deal a 5-card hand from a standard deck which has been shuffled well. \n",
    "\n",
    "Let $X$ = \"The number of Spades occurring in the hand.\" \n",
    "\n",
    "*Describe* the random variable $X$. "
   ]
  },
  {
   "cell_type": "code",
   "execution_count": 37,
   "metadata": {},
   "outputs": [
    {
     "name": "stdout",
     "output_type": "stream",
     "text": [
      "Solution:\n",
      "\n",
      "(i)   Rx = [0, 1, 2, 3, 4, 5]\n",
      "(ii)  fx = [0.2215, 0.4114, 0.2743, 0.0815, 0.0107, 0.0005]\n",
      "(iii)\n"
     ]
    },
    {
     "name": "stderr",
     "output_type": "stream",
     "text": [
      "C:\\Users\\Rashid\\Anaconda3\\lib\\site-packages\\ipykernel_launcher.py:29: DeprecationWarning: `comb` is deprecated!\n",
      "Importing `comb` from scipy.misc is deprecated in scipy 1.0.0. Use `scipy.special.comb` instead.\n"
     ]
    },
    {
     "data": {
      "image/png": "[encoded data removed]",
      "text/plain": [
       "<Figure size 432x288 with 1 Axes>"
      ]
     },
     "metadata": {
      "needs_background": "light"
     },
     "output_type": "display_data"
    },
    {
     "name": "stdout",
     "output_type": "stream",
     "text": [
      "(iv)  E(X) = 1.25\n",
      "(v)   Var(X) = 0.864\n",
      "      sigma_X = 0.9295\n"
     ]
    }
   ],
   "source": [
    "Rx2 = list(range(6))           # your code here\n",
    "\n",
    "\n",
    "\n",
    "def f2(k):\n",
    "    result = (C(13,k)*C(39,(5-k)))/ C(52,5)\n",
    "    return result\n",
    "        \n",
    "fx2 = [f2(k) for k in Rx2]           # your code here\n",
    "\n",
    "\n",
    "(E2,V2,s2) = stats(Rx2,fx2)\n",
    "\n",
    "printSolution(Rx2, fx2, E2, V2,s2)"
   ]
  },
  {
   "cell_type": "markdown",
   "metadata": {},
   "source": [
    "## Problem Three\n",
    "\n",
    "We refer to the random variable $X$ from Problem Two. \n",
    "\n",
    "<i>Describe</i> the random variable $Y = 2X + X - 1$\n",
    "\n",
    "\n",
    "Hint: when more than one instance of a random variable is involved, it is often useful to draw a matrix of all possibilities.  Consider the two random variables $2X$ and $(X-1)$ and draw a matrix of each of the two RVs and their sum; since these two RVs are independent, you can calculate the probabilities by multiplication, as shown in class. \n",
    "Or just put $X$ on each axis and calculate $2X + X - 1$ in the cells. \n"
   ]
  },
  {
   "cell_type": "markdown",
   "metadata": {},
   "source": [
    "# incorrect \n",
    "R(2x)  = {0,2,4,6,8,10}\n",
    "\n",
    "R(X-1) = {-1,0,1,2,3,4}\n",
    "\n",
    "R(Y) = {-1,0,1,2,3,4,5,6,7,8,9,10,11,12,13,14}\n",
    "\n",
    "P(Y = -1) = 0.75 * 0.75 = 0.525    (prob y = prob x * prob x .2 for loops to check for the value)\n",
    "\n",
    "P(Y = 0) = 0.75 * 0.25 = 0.1875\n",
    "\n",
    "P(Y = 1) = 0.75 * 0.0588 + 0.25 * 0.75 = 0.2316\n",
    "\n",
    "P(Y = 2) = 0.75 * 0.0129 + 0.25 * 0.25 = 0.072175\n",
    "\n",
    "P(Y = 3) = 0.75 * 0.0026 + 0.25 * 0.0588 + 0.0588 * 0.75 = 0.06075\n",
    "\n",
    "P(Y = 4) = 0.75 * 0.0005 + 0.25 * 0.0129 + 0.0588 * 0.25 = 0.0183\n",
    "\n",
    "P(Y = 5) = 0.25 * 0.0026 + 0.0588 * 0.0588 + 0.0129 * 0.75 = 0.01378244\n",
    "\n",
    "P(Y = 6) = 0.25 * 0.0005 + 0.0588 * 0.0129 + 0.0129 * 0.25 = 0.00410852\n",
    "\n",
    "P(Y = 7) = 0.0588 * 0.0026 + 0.0129 * 0.0588 + 0.0026 * 0.75 = 0.0028614\n",
    "\n",
    "P(Y = 8) = 0.0588 * 0.0005 + 0.0129 * 0.0129 + 0.0026 * 0.25 = 0.00084581\n",
    "\n",
    "P(Y = 9) = 0.0129 * 0.0026 + 0.0026 * 0.0588 + 0.0005 * 0.75 = 0.00056142\n",
    "\n",
    "P(Y = 10) = 0.0129 * 0.0005 + 0.0026 * 0.0129 + 0.0005 * 0.25 = 0.00016499\n",
    "\n",
    "P(Y = 11) = 0.0026 * 0.0026 + 0.0005 * 0.0588 = 0.00003616\n",
    "\n",
    "P(Y = 12) = 0.0026 * 0.0005 + 0.0005 * 0.0129 = 7.75*^-6\n",
    "\n",
    "P(Y = 13) = 0.0005 * 0.0026 = 1.3*^-6\n",
    "\n",
    "P(Y = 14) = 0.0005 * 0.0005 = 2.5*^-7\n",
    "\n",
    "\n",
    "\n"
   ]
  },
  {
   "cell_type": "code",
   "execution_count": 38,
   "metadata": {},
   "outputs": [
    {
     "name": "stdout",
     "output_type": "stream",
     "text": [
      "1.0\n",
      "Solution:\n",
      "\n",
      "(i)   Rx = [-1, 0, 1, 2, 3, 4, 5, 6, 7, 8, 9, 10, 11, 12, 13, 14]\n",
      "(ii)  fx = [0.0491, 0.0911, 0.1519, 0.1873, 0.176, 0.1465, 0.0977, 0.0561, 0.0277, 0.0112, 0.0039, 0.0011, 0.0003, 0.0, 0.0, 0.0]\n",
      "(iii)\n"
     ]
    },
    {
     "data": {
      "image/png": "[encoded data removed]",
      "text/plain": [
       "<Figure size 432x288 with 1 Axes>"
      ]
     },
     "metadata": {
      "needs_background": "light"
     },
     "output_type": "display_data"
    },
    {
     "name": "stdout",
     "output_type": "stream",
     "text": [
      "(iv)  E(X) = 2.75\n",
      "(v)   Var(X) = 4.3199\n",
      "      sigma_X = 2.0784\n"
     ]
    }
   ],
   "source": [
    "\n",
    "Rx3 = [-1,0,1,2,3,4,5,6,7,8,9,10,11,12,13,14]           # your code here\n",
    "fx3 = []\n",
    "\n",
    "PNegOne = fx2[0]*fx2[0]\n",
    "P0 = fx2[0]*fx2[1]\n",
    "P1 = (fx2[1]*fx2[0])+(fx2[0]*fx2[2])\n",
    "P2 = (fx2[1]*fx2[1])+(fx2[0]*fx2[3])\n",
    "P3 = (fx2[2]*fx2[0])+(fx2[1]*fx2[2])+(fx2[0]*fx2[4])\n",
    "P4 = (fx2[2]*fx2[1])+(fx2[1]*fx2[3])+(fx2[0]*fx2[5])\n",
    "P5 = (fx2[2]*fx2[2])+(fx2[3]*fx2[0])+(fx2[1]*fx2[4])\n",
    "P6 = (fx2[3]*fx2[1])+(fx2[2]*fx2[3])+(fx2[1]*fx2[5])\n",
    "P7 = (fx2[4]*fx2[0])+(fx2[3]*fx2[2])+(fx2[2]*fx2[4])\n",
    "P8 = (fx2[4]*fx2[1])+(fx2[3]*fx2[3])+(fx2[2]*fx2[5])\n",
    "P9 = (fx2[5]*fx2[0])+(fx2[4]*fx2[2])+(fx2[3]*fx2[4])\n",
    "P10 = (fx2[5]*fx2[1])+(fx2[4]*fx2[3])+(fx2[3]*fx2[5])\n",
    "P11 = (fx2[5]*fx2[2])+(fx2[4]*fx2[4])\n",
    "P12 = (fx2[5]*fx2[3])+(fx2[4]*fx2[5])\n",
    "P13 = fx2[5]*fx2[4]\n",
    "P14 = fx2[5]*fx2[5]\n",
    "\n",
    "fx3.append(PNegOne)           # your code here\n",
    "fx3.append(P0)\n",
    "fx3.append(P1)\n",
    "fx3.append(P2)\n",
    "fx3.append(P3)\n",
    "fx3.append(P4)\n",
    "fx3.append(P5)\n",
    "fx3.append(P6)\n",
    "fx3.append(P7)\n",
    "fx3.append(P8)\n",
    "fx3.append(P9)\n",
    "fx3.append(P10)\n",
    "fx3.append(P11)\n",
    "fx3.append(P12)\n",
    "fx3.append(P13)\n",
    "fx3.append(P14)\n",
    "\n",
    "(E3,V3,s3) = stats(Rx3,fx3)\n",
    "\n",
    "r= sum(fx3)\n",
    "print(r)\n",
    "\n",
    "printSolution(Rx3, fx3, E3,V3,s3)\n",
    "\n"
   ]
  },
  {
   "cell_type": "markdown",
   "metadata": {},
   "source": [
    "## Problem Four\n",
    "\n",
    "Suppose we have a sack with $2$ red balls and $2$ black balls, and \n",
    "we draw balls <i> without replacement </i> until \n",
    "the **second red** ball is drawn.  \n",
    "\n",
    "<i>Describe</i> the random variable $X$ = \"the number of balls drawn\". \n",
    " "
   ]
  },
  {
   "cell_type": "code",
   "execution_count": 39,
   "metadata": {},
   "outputs": [
    {
     "name": "stdout",
     "output_type": "stream",
     "text": [
      "Solution:\n",
      "\n",
      "(i)   Rx = [2, 3, 4]\n",
      "(ii)  fx = [0.1667, 0.3333, 0.5]\n",
      "(iii)\n"
     ]
    },
    {
     "data": {
      "image/png": "[encoded data removed]",
      "text/plain": [
       "<Figure size 432x288 with 1 Axes>"
      ]
     },
     "metadata": {
      "needs_background": "light"
     },
     "output_type": "display_data"
    },
    {
     "name": "stdout",
     "output_type": "stream",
     "text": [
      "(iv)  E(X) = 3.3333\n",
      "(v)   Var(X) = 0.5556\n",
      "      sigma_X = 0.7454\n"
     ]
    }
   ],
   "source": [
    "# P(R2) is 2 out of 6 different combinations of drawing a red ball\n",
    "# P(R3) is 4 out of 6 different combinations of drawing a red ball\n",
    "\n",
    "#R2 = 2/4 * 1/3 + 2/4 * 1/3 \n",
    "R2 = 1/2 * 1/3 # 1/6\n",
    "R3 = 2/4 * 2/3 * 1/2 + 2/4 * 2/3 * 1/2 # 2/6\n",
    "R4 = 3/6 #3/6\n",
    "\n",
    "Rx4 = [2,3,4]\n",
    "fx4 = [R2,R3,R4]\n",
    "\n",
    "(E4,V4,s4) = stats(Rx4,fx4)\n",
    "\n",
    "printSolution(Rx4, fx4, E4, V4, s4)\n",
    "\n",
    "#print(\"Solution:\")\n"
   ]
  },
  {
   "cell_type": "markdown",
   "metadata": {},
   "source": [
    "## Problem Five\n",
    "\n",
    "A sack contains five balls, two of which are marked \\$1, two \\$5, and one \\$15. One round of the game is played as follows: You pay me $10 to select two balls at random (without replacement) from the urn, at which point I pay you the sum of the amounts marked on the two balls. </p>\n",
    "\n",
    "(a) *Describe* the random variable X = \"the **net payout** in each round.\"\n",
    "\n",
    "(b) Is this a fair game? Be precise and show all work.\n",
    "\n",
    "(c) If your answer to (b) is &quot;no,&quot; what should I charge for each turn to make it a fair game?\n"
   ]
  },
  {
   "cell_type": "markdown",
   "metadata": {},
   "source": [
    "<strong> Solution:</strong>  "
   ]
  },
  {
   "cell_type": "code",
   "execution_count": 40,
   "metadata": {},
   "outputs": [
    {
     "name": "stdout",
     "output_type": "stream",
     "text": [
      "Solution:\n",
      "\n",
      "(i)   Rx = [-8, -4, 0, 6, 10]\n",
      "(ii)  fx = [0.1, 0.4, 0.1, 0.2, 0.2]\n",
      "(iii)\n"
     ]
    },
    {
     "data": {
      "image/png": "[encoded data removed]",
      "text/plain": [
       "<Figure size 432x288 with 1 Axes>"
      ]
     },
     "metadata": {
      "needs_background": "light"
     },
     "output_type": "display_data"
    },
    {
     "name": "stdout",
     "output_type": "stream",
     "text": [
      "(iv)  E(X) = 0.8\n",
      "(v)   Var(X) = 39.36\n",
      "      sigma_X = 6.2738\n",
      "(a)\n",
      "\n"
     ]
    }
   ],
   "source": [
    "# Rx5    = [(1,1),(1,5),(1,15),(5,1),(5,5),(5,15),(15,1),(15,5)]\n",
    "# fx5    = [(2/5*1/4),(2/5*2/4),(2/5*1/4),(2/5*2/4),(2/5*1/4),(2/5*1/4),(1/5*2/4),(1/5*2/4) ]\n",
    "\n",
    "\n",
    "#Rx5 = [2,6,10,16,20] # 1(2), 2(6), 1(10), 2(16), 2(20)\n",
    "#fx5 = [1/10,2/5,1/10,1/5,1/5]\n",
    "\n",
    "Rx5 = [-8,-4,0,6,10] # 1(-8) 2(-4) 1(0) 2(6) 2(10)\n",
    "fx5 = [1/10,2/5,1/10,1/5,1/5]\n",
    "\n",
    "(E5,V5,s5) = stats(Rx5,fx5)\n",
    "\n",
    "printSolution(Rx5,fx5,E5,V5,s5)\n",
    "\n",
    "print(\"(a)\\n\")\n",
    "\n"
   ]
  },
  {
   "cell_type": "markdown",
   "metadata": {},
   "source": [
    "(b) Our E(X) is $0.8$. This means on average I would be making 0.80 cents for each game I play. I would personally play this game(however it is not fair). \n",
    "  \n",
    "(c) To make this game fair, you need to add the $0.80$C to the entry fee($10$). In other words, charge $10.80$$ for a game."
   ]
  },
  {
   "cell_type": "markdown",
   "metadata": {},
   "source": [
    "## Problem Six\n",
    "\n",
    "Suppose you are playing a game with a friend in which you bet $n$ dollars on the flip of a fair coin: if the coin lands tails you lose your $n$ dollar bet, but if it lands heads, you get $2n$ dollars back (i.e., you get your $n$ dollars back plus you win $n$ dollars). \n",
    "\n",
    "Let $X$ = \"the amount you gain or lose.\" \n",
    "\n",
    "(a) What is the expected return $E(X)$ on this game? (Give your answer in terms of $n$.)\n",
    "\n",
    "Now, after losing a bunch of times, suppose you decide to improve your chances with the following strategy: you will start by betting $\\$1$, and if you lose, you will double your bet the next time, and you will keep playing until you win (the coin has to land heads sometime!).\n",
    "\n",
    "Let $Y$ = \"the amount you gain or lose with this strategy\". \n",
    "\n",
    "(b) What is the expected return $E(Y)$ with this strategy? (Hint: think about what happens for each of the cases of $k = 1, 2, 3, \\ldots$ flips). \n",
    "\n",
    "(c) Hm ... do you see any problem with this strategy? How much money would you have to start with to guarantee that you always win?  \n",
    "\n",
    "(d) Suppose when you apply this strategy, you start with $\\$20$ and you quit the game when you run out of money. Now what is $E(Y)$?\n",
    "\n"
   ]
  },
  {
   "cell_type": "markdown",
   "metadata": {},
   "source": [
    "<strong>Solution:</strong>\n",
    "\n",
    "a) R(X) = {-∞,.....,-8,-4,-2,-1,1,2,4,8,16,32,....,∞} in other words R(X) = {-n,n}\n",
    "\n",
    "f(X) = {0.5,0.5}\n",
    "\n",
    "E(X) = (-n * 0.5) + (n * 0.5) = 0\n",
    "\n",
    "b) 1 * 1/2 + 1 * 1/4 * 1*1/8+.. = 1$\n",
    "\n",
    "E(Y) = 1$\n",
    "\n",
    "c) The problem is that you would need infinite amount of money to guarantee an average win of 1.0.\n",
    "\n",
    "d) The problem is that if you start with 20 dollars, you cannot double your bet after 4 loses because 1 + 2 + 4 + 8 = 15. You cannot bet 16$ \n",
    "\n",
    "1 * 7/8 - 15 * 1/8 = -1$\n"
   ]
  },
  {
   "cell_type": "markdown",
   "metadata": {},
   "source": [
    "## Problem Seven\n",
    "\n",
    "Mr. Smith owns two appliance stores. In store A the number of TV sets sold by a salesperson is, on average, 13 per week with a standard deviation of 5. In store B the number of TV sets sold by a salesperson is, on average, 7 with a standard deviation of 4. Mr. Smith has a position open for a person to sell TV sets. There are two applicants. Mr. Smith asks one of them to work in store A and the other in store B, each for one week. The salesperson in store A sold 10 sets, and the salesperson in store B sold 6 sets. \n",
    "\n",
    "Mr. Smith realizes that Store A typically has more customers and typically sells more TVs than Store B, so\n",
    "it would not be fair to simply compare the raw data.  What he needs to do is \"level the playing field\" by\n",
    "comparing the two *after* adjusting for the differences between the two stores. \n",
    "\n",
    "(a) Based on this information, which person should Mr. Smith hire?\n",
    "\n",
    "(b) Suppose the person not hired asks Mr. Smith \"Well, how many would I have had to sell to be exactly as good as the person you hired?\"  What should Mr. Smith say? (Not quite realistic, because the answer may not be an integer, but just give the floating point value.)\n",
    "\n",
    "Hint: Use standardized random varibles. \n"
   ]
  },
  {
   "cell_type": "markdown",
   "metadata": {},
   "source": [
    "<strong>Solution:</strong>\n",
    "\n",
    "a) \n",
    "\n",
    "A = (10-13)/5 = -3/5 = -0.6\n",
    "\n",
    "B = (6-7)/4 = -1/4 = -0.25\n",
    "\n",
    "This means salesperson in store A sold 0.6 s.d. below the average and salesperson in store B sold 0.25 s.d. below the mean. Therefore Mr.Smith should hire salesperson in store B.\n",
    "\n",
    "b)\n",
    "\n",
    "(x - 13)/5 = -0.25 => x - 13 = -1.25 => x = 13 - 1.25 => x = 11.75 or roughly 12 TVs(because you can't physically sell 11.75 TVs)\n"
   ]
  },
  {
   "cell_type": "markdown",
   "metadata": {},
   "source": [
    "## Problem Eight\n",
    "\n",
    "Wayne is interested in two games, Keno and Bolita. To play Bolita, he buys a ticket for \\$1 marked with a number 1 .. 100, and one ball is drawn randomly from a collection marked with the numbers 1, ..., 100. If his ticket number matches the number on the drawn ball, he wins \\$75; otherwise he gets nothing and loses his \\$1 bet. To play Keno, he buys a ticket marked with the numbers 1 .. 4 and there are only 4 balls, marked 1, ..., 4; again he wins if the ticket matches the ball drawn; if he wins he gets \\$3; otherwise he again gets nothing and loses his bet. \n",
    "\n",
    "(a) What is the expected payout (expected value of net profit after buying ticket and possibly winning something) for each of these games?\n",
    "\n",
    "(b) What is the variance and standard deviation for each of these games?\n",
    "\n",
    "(c) If he decides to play one (and only one) of these games for a very long time, which one should he choose?  If he decides to try one of these games for a couple of times, just for fun, which one should he choose?\n",
    "\n"
   ]
  },
  {
   "cell_type": "markdown",
   "metadata": {},
   "source": [
    "<strong>Solution:</strong> \n",
    "\n",
    "a) The expected payout is -25C for both of these games\n",
    "\n",
    "b)\n",
    "\n",
    "Var(Bolita) = 55.6875, standarDev(Bolita) = 7.4624\n",
    "\n",
    "Var(Keno) = 1.6875, standardDev(Keno) = 1.2290\n",
    "\n",
    "c)Playing for a very long time does not matter because expected payout is -25c for both of these games.\n",
    "\n",
    "For a short time, Kano is a better game, because there is more chance of getting your payouts faster.\n",
    "\n"
   ]
  },
  {
   "cell_type": "markdown",
   "metadata": {},
   "source": [
    "## Lab Instructions\n",
    "\n",
    "In homework 2, problem 11, we investigated how to generate random values (called \"random variates\" in the literature). In this lab, we will make this more explicit by considering three different ways for simulating a random variable:\n",
    "\n",
    "   > 1. By simulating the original physical experiment;\n",
    "   > 2. By inverting the CDF; and\n",
    "   > 3. By using an explicit formula.\n",
    "\n",
    "In the last two, we will convert a random variate in the range $[0..1)$ created by\n",
    "the function <code>random()</code> into a random variate from a different distribution.  \n",
    "\n"
   ]
  },
  {
   "cell_type": "markdown",
   "metadata": {},
   "source": [
    "## Problem Nine: Generating a Binomial Distribution by Simulation\n",
    "\n",
    "For this problem, complete the function stub to simulate the\n",
    "following random variable:  Suppose we have a (possibly) unfair coin where\n",
    "the probability of Head is $p$ and we flip this coin $N$ times. Let $X$ = \"the number of heads showing.\" \n",
    "\n",
    "Demonstrate your solution by generating $10^5$ random variates for the parameters shown and displaying them using <code>show_distribution(...)</code>."
   ]
  },
  {
   "cell_type": "code",
   "execution_count": 6,
   "metadata": {},
   "outputs": [
    {
     "name": "stdout",
     "output_type": "stream",
     "text": [
      "Demonstration:\n"
     ]
    },
    {
     "data": {
      "image/png": "[encoded data removed]",
      "text/plain": [
       "<Figure size 432x288 with 1 Axes>"
      ]
     },
     "metadata": {
      "needs_background": "light"
     },
     "output_type": "display_data"
    }
   ],
   "source": [
    "# First, create a function which simulates the coin, where\n",
    "# you return 1 with probability p and 0 with probability 1-p. \n",
    "\n",
    "\n",
    "N = 10\n",
    "p = 0.25\n",
    "\n",
    "\n",
    "def coinFlip(p):\n",
    "    result = random()\n",
    "    if (result <= p):\n",
    "        return(1)\n",
    "    else:\n",
    "        return(0)\n",
    "    #result = result * p     # 1(p) or 0\n",
    "\n",
    "    \n",
    "def coinFlips(N,p):\n",
    "    trial = 0\n",
    "    for i in range(N):\n",
    "        a = coinFlip(p)\n",
    "        if(a == 1 ): \n",
    "            trial +=1\n",
    "        else:\n",
    "            pass\n",
    "    return trial # run coinflip n times and return between 0 and N\n",
    "\n",
    "print(\"Demonstration:\")\n",
    "\n",
    "seed(0)\n",
    "\n",
    "# coinflips is random v and we run it 10^5\n",
    "\n",
    "b = [coinFlips(N,p) for i in range(10**5)]\n",
    "\n",
    "#(E9,V9,s9) = stats(Rx9,fx9)\n",
    "#printSolution(Rx9,fx9,E9,V9,s9)\n",
    "\n",
    "# create a list with 10^5 elements and each index should coinflips\n",
    "\n",
    "show_distribution(b)\n"
   ]
  },
  {
   "cell_type": "markdown",
   "metadata": {},
   "source": [
    "## Problem Ten: Generating a Distribution by Inverting the CDF\n",
    "\n",
    "In this problem we will investigate how to implement a random variable given by an arbitary probability distribution function. First, however, you need to know about the CDF, the Cumulative Distribution Function, which is a simple but crucially important idea, which you can understand by looking at the last slide on Lecture 8 (which I did not cover in lecture) or <a href=\"https://www.probabilitycourse.com/chapter3/3_2_1_cdf.php\">here</a>. Please look at this before continuing with the lab. \n",
    "\n",
    "The basic idea in these problems is that we can essentially \"invert\" the CDF to obtain a function from a random variate in the range $[0..1)$ into  a random variable from the given distribution. \n"
   ]
  },
  {
   "cell_type": "markdown",
   "metadata": {},
   "source": [
    "### TODO, Part (a): Calculating the Cumulative Distribution Function\n",
    "\n",
    "Complete the following to calculate $F_X$ for the CDF of the probability distribution $f_X$, and then \n",
    "demonstrate your code by calculating and displaying the CDF for the random variable of $X$ \n",
    "from the Example Problem. \n"
   ]
  },
  {
   "cell_type": "code",
   "execution_count": 41,
   "metadata": {},
   "outputs": [],
   "source": [
    "# example code below\n",
    "def CDF(fx):\n",
    "    C = [0]\n",
    "    C = [0] * len(fx)        # Your code here\n",
    "    C[0] = fx[0]\n",
    "    for i in range(1,len(C)):\n",
    "        C[i] = fx[i] + C[i-1]\n",
    "\n",
    "    # just in case\n",
    "    C[-1] = 1.0\n",
    "    return C \n",
    "\n",
    "# Your code here"
   ]
  },
  {
   "cell_type": "markdown",
   "metadata": {},
   "source": [
    "### Part (b): Generating random variates by inverting the CDF\n",
    "\n",
    "The basic idea here is that the CDF is a function from outcomes to probabilities:\n",
    "\n",
    "$$F_X\\,:\\,R_X\\rightarrow [0..1)$$\n",
    "\n",
    "if we invert this function, we get\n",
    "a function from the interval $[0..1)$ into the outcomes:\n",
    "\n",
    "$$F^{-1}_X\\, : \\,[0..1)\\rightarrow R_X$$ \n",
    "\n",
    "The algorithm for doing this is actually very simple: just generate a random value $a$ in the range $[0..1)$ and look for the first bin which is greater than $a$; output the corresponding outcome.\n",
    "\n",
    "The next cell contains a demonstration of this idea: run the cell a few times to see where the random value ends up: the first bin that the red line intersects going left to right indicates the outcome that is output. Be sure you understand how this process works, and what number would be output, for each test. "
   ]
  },
  {
   "cell_type": "code",
   "execution_count": 8,
   "metadata": {},
   "outputs": [
    {
     "data": {
      "image/png": "[encoded data removed]",
      "text/plain": [
       "<Figure size 576x288 with 1 Axes>"
      ]
     },
     "metadata": {
      "needs_background": "light"
     },
     "output_type": "display_data"
    },
    {
     "data": {
      "image/png": "[encoded data removed]",
      "text/plain": [
       "<Figure size 576x288 with 1 Axes>"
      ]
     },
     "metadata": {
      "needs_background": "light"
     },
     "output_type": "display_data"
    }
   ],
   "source": [
    "Rx10b = [0,1,2,3]\n",
    "fx10b = [1/8,3/8,3/8,1/8]\n",
    "Fx10b = [1/8,4/8,7/8,1.0]\n",
    "plt.figure(figsize=(8, 4))\n",
    "plt.bar(Rx10b,fx10b,width=1.0,edgecolor='black')\n",
    "plt.ylabel(\"Probability\")\n",
    "plt.xlabel(\"Outcomes\")\n",
    "if (Rx10b[-1] - Rx10b[0] < 30):\n",
    "    ticks = range(Rx10b[0],Rx10b[-1]+1)\n",
    "    plt.xticks(ticks, ticks)  \n",
    "plt.title(\"Probability Distribution Function\")\n",
    "plt.show()\n",
    "    \n",
    "plt.figure(figsize=(8, 4))\n",
    "plt.bar(Rx10b,Fx10b,width=1.0,edgecolor='black')\n",
    "a = random()\n",
    "plt.plot([-0.5,3.5],[a,a],color=\"red\")\n",
    "plt.ylabel(\"Probability\")\n",
    "plt.xlabel(\"Outcomes\") \n",
    "plt.title(\"Inverting the CDF: a = \" + str(round4(a)))\n",
    "plt.show()"
   ]
  },
  {
   "cell_type": "markdown",
   "metadata": {
    "scrolled": false
   },
   "source": [
    "### TODO for 10 (b):\n",
    "\n",
    "Complete the following code template to generate random variates for\n",
    "a given random variable (represented by Rx and fx), using the code from Part (a). \n",
    "\n",
    "Demonstrate your code by generating $10^5$ variates from the random variable $X$ from Problem Two and display it using <code>draw_distribution(...)</code>. \n",
    "\n",
    "Hint: Compare with the theoretical distribution from Problem Two.  They should be very close! "
   ]
  },
  {
   "cell_type": "code",
   "execution_count": 42,
   "metadata": {},
   "outputs": [
    {
     "data": {
      "image/png": "[encoded data removed]",
      "text/plain": [
       "<Figure size 432x288 with 1 Axes>"
      ]
     },
     "metadata": {
      "needs_background": "light"
     },
     "output_type": "display_data"
    }
   ],
   "source": [
    "def rvs(Rx,fx):\n",
    "    u = random() # between 0 and 1\n",
    "    c = CDF(fx)\n",
    "    \n",
    "    for i in range(len(c)):\n",
    "        if(u <= c[i]):\n",
    "            return(Rx[i])\n",
    "        \n",
    "    \n",
    "    return 0     # Just to get it to compile\n",
    "    \n",
    "    # simulate a coin flip and compare it with cdf\n",
    "    \n",
    "seed(0)\n",
    "\n",
    "num_trials = 10**5\n",
    "\n",
    "# Your code here\n",
    "\n",
    "Rx11 = [rvs(Rx2,fx2) for i in range(num_trials)]\n",
    "show_distribution(Rx11)\n",
    "\n",
    "#Rx = [1,2,3,4]\n",
    "#fx = [0.2,0.1,0.6,0.1]\n",
    "#rvs(Rx,fx)"
   ]
  },
  {
   "cell_type": "markdown",
   "metadata": {},
   "source": [
    "## Problem Eleven:  Creating Random Variates for Standard Distributions by Inverting the CDF\n",
    "\n",
    "Now we will apply the technique from the last problem to generate random variates for two common distributions, which we will study in detail this week, however, we have already seen them many times; both of them involve a (possibly) unfair coin, where the probability of Head is p (and the probability of Tails is thus 1 - p): \n",
    "\n",
    "   >  Binomial  B(N,p):    This is just the number of heads showing on N flipped coins, where the probability of heads is p (and the probability of Tails is thus 1-p). \n",
    "   \n",
    "   >  Geometric  G(p):     This is the number of flips you make until the first Head appears on a coin whose probability of Head is p. "
   ]
  },
  {
   "cell_type": "markdown",
   "metadata": {},
   "source": [
    "### Part (a) Binomial Variates\n",
    " \n",
    "Display the result of generating $10^5$ random variates from the Binomial\n",
    "Distribution with $N=8$ and $p=0.8$ using <code>show_distribution</code>.  \n",
    "\n",
    "Hint:  You may look at the Distributions Notebook on the class web site to see the\n",
    "formula for the PDF for the Binomial, or wait until lecture....\n"
   ]
  },
  {
   "cell_type": "code",
   "execution_count": 43,
   "metadata": {},
   "outputs": [
    {
     "name": "stderr",
     "output_type": "stream",
     "text": [
      "C:\\Users\\Rashid\\Anaconda3\\lib\\site-packages\\ipykernel_launcher.py:29: DeprecationWarning: `comb` is deprecated!\n",
      "Importing `comb` from scipy.misc is deprecated in scipy 1.0.0. Use `scipy.special.comb` instead.\n"
     ]
    },
    {
     "data": {
      "image/png": "[encoded data removed]",
      "text/plain": [
       "<Figure size 432x288 with 1 Axes>"
      ]
     },
     "metadata": {
      "needs_background": "light"
     },
     "output_type": "display_data"
    },
    {
     "name": "stdout",
     "output_type": "stream",
     "text": [
      "Solution:\n"
     ]
    }
   ],
   "source": [
    "# Now generate the empirical distribution\n",
    "\n",
    "N = 8\n",
    "p = 0.8\n",
    "\n",
    "num_trials = 10**5\n",
    "\n",
    "def Bino(N,p,k): # k amount of heads\n",
    "    a = (C(N,k) * (p**k)) * ((1-p)**(N-k)) # prob of getting k heads\n",
    "    return a\n",
    "    \n",
    "\n",
    "#z = rvs(Bino(N, ))\n",
    "\n",
    "RxB = range(N+1)\n",
    "\n",
    "fxB = [Bino(N,p,k) for k  in RxB]\n",
    "\n",
    "#a = Bino(N,p,rvs(RxB,fxB))\n",
    "\n",
    "answer = [rvs(RxB,fxB) for i in range(num_trials)]\n",
    "\n",
    "show_distribution(answer)\n",
    "\n",
    "print(\"Solution:\")\n"
   ]
  },
  {
   "cell_type": "markdown",
   "metadata": {},
   "source": [
    "### Part (b) Geometric Variates \n",
    "\n",
    "Although $R_x$ is infinite, we will only approximate this distribution by considering the first 20 outcomes. \n",
    "This will potentially create an error, since of course it is possible for the value produce to be larger than 20, however, the probability is so small we will not worry about it. Note that our code for the CDF did not\n",
    "calculate the last bin, but simply set it to 1.0, which will make sure our generation of random variates does not crash. \n",
    "\n",
    "Display the experimental distribution for the Geometric Distribution with $p=0.6$, using <code>show_distribution</code> from the beginning of the notebook, for $10^5$ trials and the given N and p.  \n",
    "\n",
    "Hint:  You may look at the Distributions Notebook on the class web site to see the\n",
    "formula for the PDF for the Geometric, or wait until lecture....\n"
   ]
  },
  {
   "cell_type": "code",
   "execution_count": 44,
   "metadata": {
    "scrolled": false
   },
   "outputs": [
    {
     "data": {
      "image/png": "[encoded data removed]",
      "text/plain": [
       "<Figure size 432x288 with 1 Axes>"
      ]
     },
     "metadata": {
      "needs_background": "light"
     },
     "output_type": "display_data"
    }
   ],
   "source": [
    "# Solution\n",
    "\n",
    "limit = 20\n",
    "p = 0.6 \n",
    "\n",
    "def geo(p,k):\n",
    "    g = ((1-p)**(k-1)) * p\n",
    "    return (g)\n",
    "\n",
    "Rx11b = [i for i in range(1,limit+1)]\n",
    "\n",
    "fx11b =  [geo(p,i) for i in Rx11b]\n",
    "\n",
    "# Test it!\n",
    "\n",
    "num_trials = 10**5\n",
    "\n",
    "seed(0)             # this is from the random library, to make sure student answers are consistent with my solution\n",
    "\n",
    "answer1 = [rvs(Rx11b,fx11b) for i in range(num_trials)]\n",
    "\n",
    "show_distribution(answer1)"
   ]
  },
  {
   "cell_type": "markdown",
   "metadata": {},
   "source": [
    "##  Problem Twelve: Generating the Geometric Distribution by Explicit Formula\n",
    "\n",
    "Now we will explore using an explicit function for the inverse of the CDF. This is not possible for all distributions, but when it is, it the simplest (and most efficient) method.  \n",
    "\n",
    "The following formula is from <a href=\"https://en.wikipedia.org/wiki/Geometric_distribution\">Wikipedia</a>: if U is a random variable uniformly distributed in the range [0..1), then\n",
    "\n",
    "$$    1 + \\lfloor \\,\\ln{( U )} \\, \\,/ \\, \\ln{( 1 - p )}  \\,\\rfloor$$            \n",
    "          \n",
    "is an integer which is distributed according to the Geometric Distribution with probability p.\n",
    "\n",
    "Note: $\\ln$ is log to the base $e$ (just <code>log(...)</code> in Python). \n",
    "\n",
    "\n",
    "For this problem, simply complete the following function stub and demonstrate it as shown. \n"
   ]
  },
  {
   "cell_type": "code",
   "execution_count": 45,
   "metadata": {
    "scrolled": false
   },
   "outputs": [
    {
     "data": {
      "image/png": "[encoded data removed]",
      "text/plain": [
       "<Figure size 432x288 with 1 Axes>"
      ]
     },
     "metadata": {
      "needs_background": "light"
     },
     "output_type": "display_data"
    }
   ],
   "source": [
    "from math import log\n",
    "u = np.random.uniform(0,1)\n",
    "\n",
    "p = 0.4 \n",
    "\n",
    "num_trials = 10**5\n",
    "\n",
    "#Rx11b = [i for i in range(1,limit+1)]\n",
    "\n",
    "#fx11b =  [(1 + (math.floor(log(u)/ log(1-p)))) for i in Rx11b]\n",
    "\n",
    "seed(0)  # this is from the random library, to make sure student answers are consistent with my solution\n",
    "\n",
    "answer1 = [1 + (math.floor(log(random())/ log(1-p))) for i in range(num_trials)]\n",
    "\n",
    "show_distribution(answer1)"
   ]
  }
 ],
 "metadata": {
  "kernelspec": {
   "display_name": "Python 3",
   "language": "python",
   "name": "python3"
  },
  "language_info": {
   "codemirror_mode": {
    "name": "ipython",
    "version": 3
   },
   "file_extension": ".py",
   "mimetype": "text/x-python",
   "name": "python",
   "nbconvert_exporter": "python",
   "pygments_lexer": "ipython3",
   "version": "3.7.3"
  }
 },
 "nbformat": 4,
 "nbformat_minor": 2
}
